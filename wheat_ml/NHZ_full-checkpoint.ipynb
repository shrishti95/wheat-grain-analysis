{
 "cells": [
  {
   "cell_type": "code",
   "execution_count": 1,
   "metadata": {
    "id": "3dRd2hH_HEyH"
   },
   "outputs": [],
   "source": [
    "import numpy as np\n",
    "import pandas as pd\n",
    "import matplotlib.pyplot as plt"
   ]
  },
  {
   "cell_type": "code",
   "execution_count": 2,
   "metadata": {
    "id": "foALdm-GHR8k"
   },
   "outputs": [],
   "source": [
    "df=pd.read_excel('NHZ_whole.xlsx')"
   ]
  },
  {
   "cell_type": "code",
   "execution_count": 3,
   "metadata": {
    "colab": {
     "base_uri": "https://localhost:8080/",
     "height": 310
    },
    "id": "Ek5vF150Hby9",
    "outputId": "28dfc621-27b2-4984-cf54-02795fce37cb"
   },
   "outputs": [
    {
     "data": {
      "text/html": [
       "<div>\n",
       "<style scoped>\n",
       "    .dataframe tbody tr th:only-of-type {\n",
       "        vertical-align: middle;\n",
       "    }\n",
       "\n",
       "    .dataframe tbody tr th {\n",
       "        vertical-align: top;\n",
       "    }\n",
       "\n",
       "    .dataframe thead th {\n",
       "        text-align: right;\n",
       "    }\n",
       "</style>\n",
       "<table border=\"1\" class=\"dataframe\">\n",
       "  <thead>\n",
       "    <tr style=\"text-align: right;\">\n",
       "      <th></th>\n",
       "      <th>Region</th>\n",
       "      <th>Area</th>\n",
       "      <th>Timely sown</th>\n",
       "      <th>Seed</th>\n",
       "      <th>Grain appearance</th>\n",
       "      <th>Hectolitre weight</th>\n",
       "      <th>Protein content</th>\n",
       "      <th>Sedimentation value</th>\n",
       "      <th>Phenol test</th>\n",
       "      <th>Fe content</th>\n",
       "      <th>Zn content</th>\n",
       "    </tr>\n",
       "  </thead>\n",
       "  <tbody>\n",
       "    <tr>\n",
       "      <th>0</th>\n",
       "      <td>Northern Hills Zone (NHZ)</td>\n",
       "      <td>Almora</td>\n",
       "      <td>Irrigated Timely Sown</td>\n",
       "      <td>HPW349 (C)</td>\n",
       "      <td>5.4</td>\n",
       "      <td>80.0</td>\n",
       "      <td>10.8</td>\n",
       "      <td>55.7</td>\n",
       "      <td>8.5</td>\n",
       "      <td>35.1</td>\n",
       "      <td>48.9</td>\n",
       "    </tr>\n",
       "    <tr>\n",
       "      <th>1</th>\n",
       "      <td>Northern Hills Zone (NHZ)</td>\n",
       "      <td>Almora</td>\n",
       "      <td>Irrigated Timely Sown</td>\n",
       "      <td>VL907 (C)</td>\n",
       "      <td>5.4</td>\n",
       "      <td>80.2</td>\n",
       "      <td>11.7</td>\n",
       "      <td>44.2</td>\n",
       "      <td>8.5</td>\n",
       "      <td>33.9</td>\n",
       "      <td>45.3</td>\n",
       "    </tr>\n",
       "    <tr>\n",
       "      <th>2</th>\n",
       "      <td>Northern Hills Zone (NHZ)</td>\n",
       "      <td>Almora</td>\n",
       "      <td>Irrigated Timely Sown</td>\n",
       "      <td>HS507 (C)</td>\n",
       "      <td>5.6</td>\n",
       "      <td>80.1</td>\n",
       "      <td>11.1</td>\n",
       "      <td>45.7</td>\n",
       "      <td>7.5</td>\n",
       "      <td>36.3</td>\n",
       "      <td>42.8</td>\n",
       "    </tr>\n",
       "    <tr>\n",
       "      <th>3</th>\n",
       "      <td>Northern Hills Zone (NHZ)</td>\n",
       "      <td>Almora</td>\n",
       "      <td>Irrigated Timely Sown</td>\n",
       "      <td>HS562 (C)</td>\n",
       "      <td>5.2</td>\n",
       "      <td>79.9</td>\n",
       "      <td>10.1</td>\n",
       "      <td>53.8</td>\n",
       "      <td>7.5</td>\n",
       "      <td>41.1</td>\n",
       "      <td>48.1</td>\n",
       "    </tr>\n",
       "    <tr>\n",
       "      <th>4</th>\n",
       "      <td>Northern Hills Zone (NHZ)</td>\n",
       "      <td>Almora</td>\n",
       "      <td>Irrigated Timely Sown</td>\n",
       "      <td>VL2041</td>\n",
       "      <td>5.6</td>\n",
       "      <td>80.7</td>\n",
       "      <td>9.8</td>\n",
       "      <td>46.5</td>\n",
       "      <td>2.5</td>\n",
       "      <td>40.5</td>\n",
       "      <td>45.3</td>\n",
       "    </tr>\n",
       "  </tbody>\n",
       "</table>\n",
       "</div>"
      ],
      "text/plain": [
       "                      Region    Area            Timely sown        Seed  \\\n",
       "0  Northern Hills Zone (NHZ)  Almora  Irrigated Timely Sown  HPW349 (C)   \n",
       "1  Northern Hills Zone (NHZ)  Almora  Irrigated Timely Sown   VL907 (C)   \n",
       "2  Northern Hills Zone (NHZ)  Almora  Irrigated Timely Sown   HS507 (C)   \n",
       "3  Northern Hills Zone (NHZ)  Almora  Irrigated Timely Sown   HS562 (C)   \n",
       "4  Northern Hills Zone (NHZ)  Almora  Irrigated Timely Sown      VL2041   \n",
       "\n",
       "   Grain appearance  Hectolitre weight  Protein content  Sedimentation value  \\\n",
       "0               5.4               80.0             10.8                 55.7   \n",
       "1               5.4               80.2             11.7                 44.2   \n",
       "2               5.6               80.1             11.1                 45.7   \n",
       "3               5.2               79.9             10.1                 53.8   \n",
       "4               5.6               80.7              9.8                 46.5   \n",
       "\n",
       "   Phenol test  Fe content  Zn content  \n",
       "0          8.5        35.1        48.9  \n",
       "1          8.5        33.9        45.3  \n",
       "2          7.5        36.3        42.8  \n",
       "3          7.5        41.1        48.1  \n",
       "4          2.5        40.5        45.3  "
      ]
     },
     "execution_count": 3,
     "metadata": {},
     "output_type": "execute_result"
    }
   ],
   "source": [
    "df.head()"
   ]
  },
  {
   "cell_type": "code",
   "execution_count": 4,
   "metadata": {
    "colab": {
     "base_uri": "https://localhost:8080/"
    },
    "id": "SnTk98cdHgIL",
    "outputId": "45344f8c-de25-4f4c-e181-de68cd2230f9"
   },
   "outputs": [
    {
     "data": {
      "text/plain": [
       "(30, 11)"
      ]
     },
     "execution_count": 4,
     "metadata": {},
     "output_type": "execute_result"
    }
   ],
   "source": [
    "df.shape"
   ]
  },
  {
   "cell_type": "code",
   "execution_count": 5,
   "metadata": {
    "colab": {
     "base_uri": "https://localhost:8080/"
    },
    "id": "A_gB31WJHlzu",
    "outputId": "5d01d1f8-f2e0-472a-b8af-b935fe56a114"
   },
   "outputs": [
    {
     "data": {
      "text/plain": [
       "Region                 0\n",
       "Area                   0\n",
       "Timely sown            0\n",
       "Seed                   0\n",
       "Grain appearance       0\n",
       "Hectolitre weight      0\n",
       "Protein content        0\n",
       "Sedimentation value    0\n",
       "Phenol test            0\n",
       "Fe content             0\n",
       "Zn content             0\n",
       "dtype: int64"
      ]
     },
     "execution_count": 5,
     "metadata": {},
     "output_type": "execute_result"
    }
   ],
   "source": [
    "df.isnull().sum()"
   ]
  },
  {
   "cell_type": "code",
   "execution_count": 6,
   "metadata": {
    "colab": {
     "base_uri": "https://localhost:8080/",
     "height": 990
    },
    "id": "zUd_urbVHt4P",
    "outputId": "688b9b98-4a8f-45b2-f769-756ed268bc50"
   },
   "outputs": [
    {
     "data": {
      "text/html": [
       "<div>\n",
       "<style scoped>\n",
       "    .dataframe tbody tr th:only-of-type {\n",
       "        vertical-align: middle;\n",
       "    }\n",
       "\n",
       "    .dataframe tbody tr th {\n",
       "        vertical-align: top;\n",
       "    }\n",
       "\n",
       "    .dataframe thead th {\n",
       "        text-align: right;\n",
       "    }\n",
       "</style>\n",
       "<table border=\"1\" class=\"dataframe\">\n",
       "  <thead>\n",
       "    <tr style=\"text-align: right;\">\n",
       "      <th></th>\n",
       "      <th>Fe content</th>\n",
       "      <th>Zn content</th>\n",
       "    </tr>\n",
       "  </thead>\n",
       "  <tbody>\n",
       "    <tr>\n",
       "      <th>0</th>\n",
       "      <td>35.1</td>\n",
       "      <td>48.9</td>\n",
       "    </tr>\n",
       "    <tr>\n",
       "      <th>1</th>\n",
       "      <td>33.9</td>\n",
       "      <td>45.3</td>\n",
       "    </tr>\n",
       "    <tr>\n",
       "      <th>2</th>\n",
       "      <td>36.3</td>\n",
       "      <td>42.8</td>\n",
       "    </tr>\n",
       "    <tr>\n",
       "      <th>3</th>\n",
       "      <td>41.1</td>\n",
       "      <td>48.1</td>\n",
       "    </tr>\n",
       "    <tr>\n",
       "      <th>4</th>\n",
       "      <td>40.5</td>\n",
       "      <td>45.3</td>\n",
       "    </tr>\n",
       "    <tr>\n",
       "      <th>5</th>\n",
       "      <td>39.0</td>\n",
       "      <td>38.5</td>\n",
       "    </tr>\n",
       "    <tr>\n",
       "      <th>6</th>\n",
       "      <td>39.4</td>\n",
       "      <td>36.9</td>\n",
       "    </tr>\n",
       "    <tr>\n",
       "      <th>7</th>\n",
       "      <td>41.8</td>\n",
       "      <td>43.8</td>\n",
       "    </tr>\n",
       "    <tr>\n",
       "      <th>8</th>\n",
       "      <td>35.8</td>\n",
       "      <td>30.1</td>\n",
       "    </tr>\n",
       "    <tr>\n",
       "      <th>9</th>\n",
       "      <td>37.1</td>\n",
       "      <td>30.9</td>\n",
       "    </tr>\n",
       "    <tr>\n",
       "      <th>10</th>\n",
       "      <td>36.1</td>\n",
       "      <td>22.2</td>\n",
       "    </tr>\n",
       "    <tr>\n",
       "      <th>11</th>\n",
       "      <td>35.3</td>\n",
       "      <td>26.6</td>\n",
       "    </tr>\n",
       "    <tr>\n",
       "      <th>12</th>\n",
       "      <td>36.2</td>\n",
       "      <td>27.9</td>\n",
       "    </tr>\n",
       "    <tr>\n",
       "      <th>13</th>\n",
       "      <td>43.6</td>\n",
       "      <td>24.0</td>\n",
       "    </tr>\n",
       "    <tr>\n",
       "      <th>14</th>\n",
       "      <td>33.6</td>\n",
       "      <td>22.4</td>\n",
       "    </tr>\n",
       "    <tr>\n",
       "      <th>15</th>\n",
       "      <td>40.2</td>\n",
       "      <td>36.2</td>\n",
       "    </tr>\n",
       "    <tr>\n",
       "      <th>16</th>\n",
       "      <td>42.9</td>\n",
       "      <td>50.2</td>\n",
       "    </tr>\n",
       "    <tr>\n",
       "      <th>17</th>\n",
       "      <td>38.6</td>\n",
       "      <td>47.9</td>\n",
       "    </tr>\n",
       "    <tr>\n",
       "      <th>18</th>\n",
       "      <td>41.3</td>\n",
       "      <td>50.1</td>\n",
       "    </tr>\n",
       "    <tr>\n",
       "      <th>19</th>\n",
       "      <td>35.9</td>\n",
       "      <td>40.1</td>\n",
       "    </tr>\n",
       "    <tr>\n",
       "      <th>20</th>\n",
       "      <td>43.5</td>\n",
       "      <td>29.2</td>\n",
       "    </tr>\n",
       "    <tr>\n",
       "      <th>21</th>\n",
       "      <td>42.3</td>\n",
       "      <td>34.2</td>\n",
       "    </tr>\n",
       "    <tr>\n",
       "      <th>22</th>\n",
       "      <td>39.2</td>\n",
       "      <td>32.8</td>\n",
       "    </tr>\n",
       "    <tr>\n",
       "      <th>23</th>\n",
       "      <td>40.8</td>\n",
       "      <td>34.9</td>\n",
       "    </tr>\n",
       "    <tr>\n",
       "      <th>24</th>\n",
       "      <td>41.4</td>\n",
       "      <td>36.0</td>\n",
       "    </tr>\n",
       "    <tr>\n",
       "      <th>25</th>\n",
       "      <td>39.6</td>\n",
       "      <td>31.8</td>\n",
       "    </tr>\n",
       "    <tr>\n",
       "      <th>26</th>\n",
       "      <td>39.4</td>\n",
       "      <td>25.5</td>\n",
       "    </tr>\n",
       "    <tr>\n",
       "      <th>27</th>\n",
       "      <td>40.6</td>\n",
       "      <td>35.1</td>\n",
       "    </tr>\n",
       "    <tr>\n",
       "      <th>28</th>\n",
       "      <td>36.1</td>\n",
       "      <td>33.3</td>\n",
       "    </tr>\n",
       "    <tr>\n",
       "      <th>29</th>\n",
       "      <td>35.4</td>\n",
       "      <td>27.8</td>\n",
       "    </tr>\n",
       "  </tbody>\n",
       "</table>\n",
       "</div>"
      ],
      "text/plain": [
       "    Fe content  Zn content\n",
       "0         35.1        48.9\n",
       "1         33.9        45.3\n",
       "2         36.3        42.8\n",
       "3         41.1        48.1\n",
       "4         40.5        45.3\n",
       "5         39.0        38.5\n",
       "6         39.4        36.9\n",
       "7         41.8        43.8\n",
       "8         35.8        30.1\n",
       "9         37.1        30.9\n",
       "10        36.1        22.2\n",
       "11        35.3        26.6\n",
       "12        36.2        27.9\n",
       "13        43.6        24.0\n",
       "14        33.6        22.4\n",
       "15        40.2        36.2\n",
       "16        42.9        50.2\n",
       "17        38.6        47.9\n",
       "18        41.3        50.1\n",
       "19        35.9        40.1\n",
       "20        43.5        29.2\n",
       "21        42.3        34.2\n",
       "22        39.2        32.8\n",
       "23        40.8        34.9\n",
       "24        41.4        36.0\n",
       "25        39.6        31.8\n",
       "26        39.4        25.5\n",
       "27        40.6        35.1\n",
       "28        36.1        33.3\n",
       "29        35.4        27.8"
      ]
     },
     "execution_count": 6,
     "metadata": {},
     "output_type": "execute_result"
    }
   ],
   "source": [
    "df.iloc[:,9:]"
   ]
  },
  {
   "cell_type": "code",
   "execution_count": 7,
   "metadata": {
    "id": "Lp_4eeDiJhyF"
   },
   "outputs": [],
   "source": [
    "frame=pd.DataFrame(df.iloc[:,9:])"
   ]
  },
  {
   "cell_type": "code",
   "execution_count": 8,
   "metadata": {
    "colab": {
     "base_uri": "https://localhost:8080/",
     "height": 206
    },
    "id": "JT2bJx-_Jkzx",
    "outputId": "d8c841dc-cabb-4e22-e8ed-7fd31c782039"
   },
   "outputs": [
    {
     "data": {
      "text/html": [
       "<div>\n",
       "<style scoped>\n",
       "    .dataframe tbody tr th:only-of-type {\n",
       "        vertical-align: middle;\n",
       "    }\n",
       "\n",
       "    .dataframe tbody tr th {\n",
       "        vertical-align: top;\n",
       "    }\n",
       "\n",
       "    .dataframe thead th {\n",
       "        text-align: right;\n",
       "    }\n",
       "</style>\n",
       "<table border=\"1\" class=\"dataframe\">\n",
       "  <thead>\n",
       "    <tr style=\"text-align: right;\">\n",
       "      <th></th>\n",
       "      <th>Fe content</th>\n",
       "      <th>Zn content</th>\n",
       "    </tr>\n",
       "  </thead>\n",
       "  <tbody>\n",
       "    <tr>\n",
       "      <th>0</th>\n",
       "      <td>35.1</td>\n",
       "      <td>48.9</td>\n",
       "    </tr>\n",
       "    <tr>\n",
       "      <th>1</th>\n",
       "      <td>33.9</td>\n",
       "      <td>45.3</td>\n",
       "    </tr>\n",
       "    <tr>\n",
       "      <th>2</th>\n",
       "      <td>36.3</td>\n",
       "      <td>42.8</td>\n",
       "    </tr>\n",
       "    <tr>\n",
       "      <th>3</th>\n",
       "      <td>41.1</td>\n",
       "      <td>48.1</td>\n",
       "    </tr>\n",
       "    <tr>\n",
       "      <th>4</th>\n",
       "      <td>40.5</td>\n",
       "      <td>45.3</td>\n",
       "    </tr>\n",
       "  </tbody>\n",
       "</table>\n",
       "</div>"
      ],
      "text/plain": [
       "   Fe content  Zn content\n",
       "0        35.1        48.9\n",
       "1        33.9        45.3\n",
       "2        36.3        42.8\n",
       "3        41.1        48.1\n",
       "4        40.5        45.3"
      ]
     },
     "execution_count": 8,
     "metadata": {},
     "output_type": "execute_result"
    }
   ],
   "source": [
    "frame.head()"
   ]
  },
  {
   "cell_type": "code",
   "execution_count": 9,
   "metadata": {
    "colab": {
     "base_uri": "https://localhost:8080/",
     "height": 430
    },
    "id": "jpn4jfQxJpo6",
    "outputId": "897be330-3f8c-4381-8b7e-026ad8f684eb"
   },
   "outputs": [
    {
     "data": {
      "image/png": "[encoded data removed]",
      "text/plain": [
       "<Figure size 640x480 with 1 Axes>"
      ]
     },
     "metadata": {},
     "output_type": "display_data"
    }
   ],
   "source": [
    "plt.scatter(frame['Fe content'],frame['Zn content'])\n",
    "plt.show()"
   ]
  },
  {
   "cell_type": "code",
   "execution_count": 10,
   "metadata": {
    "id": "Nfk_lwG_Jtxr"
   },
   "outputs": [],
   "source": [
    "from sklearn.cluster import KMeans"
   ]
  },
  {
   "cell_type": "code",
   "execution_count": 11,
   "metadata": {
    "colab": {
     "base_uri": "https://localhost:8080/"
    },
    "id": "cTHzrRcCKKrK",
    "outputId": "00aa4426-25f1-4b1c-dc33-6fa8efb35082"
   },
   "outputs": [
    {
     "name": "stderr",
     "output_type": "stream",
     "text": [
      "C:\\ProgramData\\anaconda3\\Lib\\site-packages\\sklearn\\cluster\\_kmeans.py:1412: FutureWarning: The default value of `n_init` will change from 10 to 'auto' in 1.4. Set the value of `n_init` explicitly to suppress the warning\n",
      "  super()._check_params_vs_input(X, default_n_init=10)\n",
      "C:\\ProgramData\\anaconda3\\Lib\\site-packages\\sklearn\\cluster\\_kmeans.py:1436: UserWarning: KMeans is known to have a memory leak on Windows with MKL, when there are less chunks than available threads. You can avoid it by setting the environment variable OMP_NUM_THREADS=1.\n",
      "  warnings.warn(\n",
      "C:\\ProgramData\\anaconda3\\Lib\\site-packages\\sklearn\\cluster\\_kmeans.py:1412: FutureWarning: The default value of `n_init` will change from 10 to 'auto' in 1.4. Set the value of `n_init` explicitly to suppress the warning\n",
      "  super()._check_params_vs_input(X, default_n_init=10)\n",
      "C:\\ProgramData\\anaconda3\\Lib\\site-packages\\sklearn\\cluster\\_kmeans.py:1436: UserWarning: KMeans is known to have a memory leak on Windows with MKL, when there are less chunks than available threads. You can avoid it by setting the environment variable OMP_NUM_THREADS=1.\n",
      "  warnings.warn(\n",
      "C:\\ProgramData\\anaconda3\\Lib\\site-packages\\sklearn\\cluster\\_kmeans.py:1412: FutureWarning: The default value of `n_init` will change from 10 to 'auto' in 1.4. Set the value of `n_init` explicitly to suppress the warning\n",
      "  super()._check_params_vs_input(X, default_n_init=10)\n",
      "C:\\ProgramData\\anaconda3\\Lib\\site-packages\\sklearn\\cluster\\_kmeans.py:1436: UserWarning: KMeans is known to have a memory leak on Windows with MKL, when there are less chunks than available threads. You can avoid it by setting the environment variable OMP_NUM_THREADS=1.\n",
      "  warnings.warn(\n",
      "C:\\ProgramData\\anaconda3\\Lib\\site-packages\\sklearn\\cluster\\_kmeans.py:1412: FutureWarning: The default value of `n_init` will change from 10 to 'auto' in 1.4. Set the value of `n_init` explicitly to suppress the warning\n",
      "  super()._check_params_vs_input(X, default_n_init=10)\n",
      "C:\\ProgramData\\anaconda3\\Lib\\site-packages\\sklearn\\cluster\\_kmeans.py:1436: UserWarning: KMeans is known to have a memory leak on Windows with MKL, when there are less chunks than available threads. You can avoid it by setting the environment variable OMP_NUM_THREADS=1.\n",
      "  warnings.warn(\n",
      "C:\\ProgramData\\anaconda3\\Lib\\site-packages\\sklearn\\cluster\\_kmeans.py:1412: FutureWarning: The default value of `n_init` will change from 10 to 'auto' in 1.4. Set the value of `n_init` explicitly to suppress the warning\n",
      "  super()._check_params_vs_input(X, default_n_init=10)\n",
      "C:\\ProgramData\\anaconda3\\Lib\\site-packages\\sklearn\\cluster\\_kmeans.py:1436: UserWarning: KMeans is known to have a memory leak on Windows with MKL, when there are less chunks than available threads. You can avoid it by setting the environment variable OMP_NUM_THREADS=1.\n",
      "  warnings.warn(\n",
      "C:\\ProgramData\\anaconda3\\Lib\\site-packages\\sklearn\\cluster\\_kmeans.py:1412: FutureWarning: The default value of `n_init` will change from 10 to 'auto' in 1.4. Set the value of `n_init` explicitly to suppress the warning\n",
      "  super()._check_params_vs_input(X, default_n_init=10)\n",
      "C:\\ProgramData\\anaconda3\\Lib\\site-packages\\sklearn\\cluster\\_kmeans.py:1436: UserWarning: KMeans is known to have a memory leak on Windows with MKL, when there are less chunks than available threads. You can avoid it by setting the environment variable OMP_NUM_THREADS=1.\n",
      "  warnings.warn(\n",
      "C:\\ProgramData\\anaconda3\\Lib\\site-packages\\sklearn\\cluster\\_kmeans.py:1412: FutureWarning: The default value of `n_init` will change from 10 to 'auto' in 1.4. Set the value of `n_init` explicitly to suppress the warning\n",
      "  super()._check_params_vs_input(X, default_n_init=10)\n",
      "C:\\ProgramData\\anaconda3\\Lib\\site-packages\\sklearn\\cluster\\_kmeans.py:1436: UserWarning: KMeans is known to have a memory leak on Windows with MKL, when there are less chunks than available threads. You can avoid it by setting the environment variable OMP_NUM_THREADS=1.\n",
      "  warnings.warn(\n",
      "C:\\ProgramData\\anaconda3\\Lib\\site-packages\\sklearn\\cluster\\_kmeans.py:1412: FutureWarning: The default value of `n_init` will change from 10 to 'auto' in 1.4. Set the value of `n_init` explicitly to suppress the warning\n",
      "  super()._check_params_vs_input(X, default_n_init=10)\n",
      "C:\\ProgramData\\anaconda3\\Lib\\site-packages\\sklearn\\cluster\\_kmeans.py:1436: UserWarning: KMeans is known to have a memory leak on Windows with MKL, when there are less chunks than available threads. You can avoid it by setting the environment variable OMP_NUM_THREADS=1.\n",
      "  warnings.warn(\n",
      "C:\\ProgramData\\anaconda3\\Lib\\site-packages\\sklearn\\cluster\\_kmeans.py:1412: FutureWarning: The default value of `n_init` will change from 10 to 'auto' in 1.4. Set the value of `n_init` explicitly to suppress the warning\n",
      "  super()._check_params_vs_input(X, default_n_init=10)\n",
      "C:\\ProgramData\\anaconda3\\Lib\\site-packages\\sklearn\\cluster\\_kmeans.py:1436: UserWarning: KMeans is known to have a memory leak on Windows with MKL, when there are less chunks than available threads. You can avoid it by setting the environment variable OMP_NUM_THREADS=1.\n",
      "  warnings.warn(\n",
      "C:\\ProgramData\\anaconda3\\Lib\\site-packages\\sklearn\\cluster\\_kmeans.py:1412: FutureWarning: The default value of `n_init` will change from 10 to 'auto' in 1.4. Set the value of `n_init` explicitly to suppress the warning\n",
      "  super()._check_params_vs_input(X, default_n_init=10)\n",
      "C:\\ProgramData\\anaconda3\\Lib\\site-packages\\sklearn\\cluster\\_kmeans.py:1436: UserWarning: KMeans is known to have a memory leak on Windows with MKL, when there are less chunks than available threads. You can avoid it by setting the environment variable OMP_NUM_THREADS=1.\n",
      "  warnings.warn(\n",
      "C:\\ProgramData\\anaconda3\\Lib\\site-packages\\sklearn\\cluster\\_kmeans.py:1412: FutureWarning: The default value of `n_init` will change from 10 to 'auto' in 1.4. Set the value of `n_init` explicitly to suppress the warning\n",
      "  super()._check_params_vs_input(X, default_n_init=10)\n",
      "C:\\ProgramData\\anaconda3\\Lib\\site-packages\\sklearn\\cluster\\_kmeans.py:1436: UserWarning: KMeans is known to have a memory leak on Windows with MKL, when there are less chunks than available threads. You can avoid it by setting the environment variable OMP_NUM_THREADS=1.\n",
      "  warnings.warn(\n",
      "C:\\ProgramData\\anaconda3\\Lib\\site-packages\\sklearn\\cluster\\_kmeans.py:1412: FutureWarning: The default value of `n_init` will change from 10 to 'auto' in 1.4. Set the value of `n_init` explicitly to suppress the warning\n",
      "  super()._check_params_vs_input(X, default_n_init=10)\n",
      "C:\\ProgramData\\anaconda3\\Lib\\site-packages\\sklearn\\cluster\\_kmeans.py:1436: UserWarning: KMeans is known to have a memory leak on Windows with MKL, when there are less chunks than available threads. You can avoid it by setting the environment variable OMP_NUM_THREADS=1.\n",
      "  warnings.warn(\n",
      "C:\\ProgramData\\anaconda3\\Lib\\site-packages\\sklearn\\cluster\\_kmeans.py:1412: FutureWarning: The default value of `n_init` will change from 10 to 'auto' in 1.4. Set the value of `n_init` explicitly to suppress the warning\n",
      "  super()._check_params_vs_input(X, default_n_init=10)\n",
      "C:\\ProgramData\\anaconda3\\Lib\\site-packages\\sklearn\\cluster\\_kmeans.py:1436: UserWarning: KMeans is known to have a memory leak on Windows with MKL, when there are less chunks than available threads. You can avoid it by setting the environment variable OMP_NUM_THREADS=1.\n",
      "  warnings.warn(\n"
     ]
    }
   ],
   "source": [
    "k_rng=range(1,14)\n",
    "sse=[]\n",
    "for k in k_rng:\n",
    "    km=KMeans(n_clusters=k)\n",
    "    km.fit(frame[['Fe content','Zn content']])\n",
    "    sse.append(km.inertia_)"
   ]
  },
  {
   "cell_type": "code",
   "execution_count": 12,
   "metadata": {
    "colab": {
     "base_uri": "https://localhost:8080/",
     "height": 432
    },
    "id": "ZTYQq7KmLDnh",
    "outputId": "53ba3bcd-04f6-4a37-9b24-a8e8a5fe8ed5"
   },
   "outputs": [
    {
     "data": {
      "image/png": "[encoded data removed]",
      "text/plain": [
       "<Figure size 640x480 with 1 Axes>"
      ]
     },
     "metadata": {},
     "output_type": "display_data"
    }
   ],
   "source": [
    "plt.plot(k_rng,sse)\n",
    "plt.show()"
   ]
  },
  {
   "cell_type": "code",
   "execution_count": 13,
   "metadata": {
    "id": "zT4WcRh5LHt6"
   },
   "outputs": [],
   "source": [
    "import sklearn.metrics as metrics"
   ]
  },
  {
   "cell_type": "code",
   "execution_count": 14,
   "metadata": {
    "colab": {
     "base_uri": "https://localhost:8080/"
    },
    "id": "LjBXHj4pLNO_",
    "outputId": "f54418f6-7b4e-4911-c6ce-8990b0b28b53"
   },
   "outputs": [
    {
     "name": "stderr",
     "output_type": "stream",
     "text": [
      "C:\\ProgramData\\anaconda3\\Lib\\site-packages\\sklearn\\cluster\\_kmeans.py:1412: FutureWarning: The default value of `n_init` will change from 10 to 'auto' in 1.4. Set the value of `n_init` explicitly to suppress the warning\n",
      "  super()._check_params_vs_input(X, default_n_init=10)\n",
      "C:\\ProgramData\\anaconda3\\Lib\\site-packages\\sklearn\\cluster\\_kmeans.py:1436: UserWarning: KMeans is known to have a memory leak on Windows with MKL, when there are less chunks than available threads. You can avoid it by setting the environment variable OMP_NUM_THREADS=1.\n",
      "  warnings.warn(\n",
      "C:\\ProgramData\\anaconda3\\Lib\\site-packages\\sklearn\\cluster\\_kmeans.py:1412: FutureWarning: The default value of `n_init` will change from 10 to 'auto' in 1.4. Set the value of `n_init` explicitly to suppress the warning\n",
      "  super()._check_params_vs_input(X, default_n_init=10)\n",
      "C:\\ProgramData\\anaconda3\\Lib\\site-packages\\sklearn\\cluster\\_kmeans.py:1436: UserWarning: KMeans is known to have a memory leak on Windows with MKL, when there are less chunks than available threads. You can avoid it by setting the environment variable OMP_NUM_THREADS=1.\n",
      "  warnings.warn(\n",
      "C:\\ProgramData\\anaconda3\\Lib\\site-packages\\sklearn\\cluster\\_kmeans.py:1412: FutureWarning: The default value of `n_init` will change from 10 to 'auto' in 1.4. Set the value of `n_init` explicitly to suppress the warning\n",
      "  super()._check_params_vs_input(X, default_n_init=10)\n",
      "C:\\ProgramData\\anaconda3\\Lib\\site-packages\\sklearn\\cluster\\_kmeans.py:1436: UserWarning: KMeans is known to have a memory leak on Windows with MKL, when there are less chunks than available threads. You can avoid it by setting the environment variable OMP_NUM_THREADS=1.\n",
      "  warnings.warn(\n",
      "C:\\ProgramData\\anaconda3\\Lib\\site-packages\\sklearn\\cluster\\_kmeans.py:1412: FutureWarning: The default value of `n_init` will change from 10 to 'auto' in 1.4. Set the value of `n_init` explicitly to suppress the warning\n",
      "  super()._check_params_vs_input(X, default_n_init=10)\n",
      "C:\\ProgramData\\anaconda3\\Lib\\site-packages\\sklearn\\cluster\\_kmeans.py:1436: UserWarning: KMeans is known to have a memory leak on Windows with MKL, when there are less chunks than available threads. You can avoid it by setting the environment variable OMP_NUM_THREADS=1.\n",
      "  warnings.warn(\n",
      "C:\\ProgramData\\anaconda3\\Lib\\site-packages\\sklearn\\cluster\\_kmeans.py:1412: FutureWarning: The default value of `n_init` will change from 10 to 'auto' in 1.4. Set the value of `n_init` explicitly to suppress the warning\n",
      "  super()._check_params_vs_input(X, default_n_init=10)\n",
      "C:\\ProgramData\\anaconda3\\Lib\\site-packages\\sklearn\\cluster\\_kmeans.py:1436: UserWarning: KMeans is known to have a memory leak on Windows with MKL, when there are less chunks than available threads. You can avoid it by setting the environment variable OMP_NUM_THREADS=1.\n",
      "  warnings.warn(\n",
      "C:\\ProgramData\\anaconda3\\Lib\\site-packages\\sklearn\\cluster\\_kmeans.py:1412: FutureWarning: The default value of `n_init` will change from 10 to 'auto' in 1.4. Set the value of `n_init` explicitly to suppress the warning\n",
      "  super()._check_params_vs_input(X, default_n_init=10)\n",
      "C:\\ProgramData\\anaconda3\\Lib\\site-packages\\sklearn\\cluster\\_kmeans.py:1436: UserWarning: KMeans is known to have a memory leak on Windows with MKL, when there are less chunks than available threads. You can avoid it by setting the environment variable OMP_NUM_THREADS=1.\n",
      "  warnings.warn(\n",
      "C:\\ProgramData\\anaconda3\\Lib\\site-packages\\sklearn\\cluster\\_kmeans.py:1412: FutureWarning: The default value of `n_init` will change from 10 to 'auto' in 1.4. Set the value of `n_init` explicitly to suppress the warning\n",
      "  super()._check_params_vs_input(X, default_n_init=10)\n",
      "C:\\ProgramData\\anaconda3\\Lib\\site-packages\\sklearn\\cluster\\_kmeans.py:1436: UserWarning: KMeans is known to have a memory leak on Windows with MKL, when there are less chunks than available threads. You can avoid it by setting the environment variable OMP_NUM_THREADS=1.\n",
      "  warnings.warn(\n",
      "C:\\ProgramData\\anaconda3\\Lib\\site-packages\\sklearn\\cluster\\_kmeans.py:1412: FutureWarning: The default value of `n_init` will change from 10 to 'auto' in 1.4. Set the value of `n_init` explicitly to suppress the warning\n",
      "  super()._check_params_vs_input(X, default_n_init=10)\n",
      "C:\\ProgramData\\anaconda3\\Lib\\site-packages\\sklearn\\cluster\\_kmeans.py:1436: UserWarning: KMeans is known to have a memory leak on Windows with MKL, when there are less chunks than available threads. You can avoid it by setting the environment variable OMP_NUM_THREADS=1.\n",
      "  warnings.warn(\n",
      "C:\\ProgramData\\anaconda3\\Lib\\site-packages\\sklearn\\cluster\\_kmeans.py:1412: FutureWarning: The default value of `n_init` will change from 10 to 'auto' in 1.4. Set the value of `n_init` explicitly to suppress the warning\n",
      "  super()._check_params_vs_input(X, default_n_init=10)\n",
      "C:\\ProgramData\\anaconda3\\Lib\\site-packages\\sklearn\\cluster\\_kmeans.py:1436: UserWarning: KMeans is known to have a memory leak on Windows with MKL, when there are less chunks than available threads. You can avoid it by setting the environment variable OMP_NUM_THREADS=1.\n",
      "  warnings.warn(\n",
      "C:\\ProgramData\\anaconda3\\Lib\\site-packages\\sklearn\\cluster\\_kmeans.py:1412: FutureWarning: The default value of `n_init` will change from 10 to 'auto' in 1.4. Set the value of `n_init` explicitly to suppress the warning\n",
      "  super()._check_params_vs_input(X, default_n_init=10)\n",
      "C:\\ProgramData\\anaconda3\\Lib\\site-packages\\sklearn\\cluster\\_kmeans.py:1436: UserWarning: KMeans is known to have a memory leak on Windows with MKL, when there are less chunks than available threads. You can avoid it by setting the environment variable OMP_NUM_THREADS=1.\n",
      "  warnings.warn(\n"
     ]
    }
   ],
   "source": [
    "kvalue=range(2,12)\n",
    "sil=[]\n",
    "for k in kvalue:\n",
    "    km=KMeans(n_clusters=k)\n",
    "    labels=km.fit_predict(frame[['Fe content','Zn content']])\n",
    "    score=metrics.silhouette_score(frame[['Fe content','Zn content']],labels)\n",
    "    sil.append(score)"
   ]
  },
  {
   "cell_type": "code",
   "execution_count": 15,
   "metadata": {
    "colab": {
     "base_uri": "https://localhost:8080/",
     "height": 430
    },
    "id": "aTX-D6LvLRAI",
    "outputId": "19b5ac4b-4720-458d-d9f4-42902f38d389"
   },
   "outputs": [
    {
     "data": {
      "image/png": "[encoded data removed]",
      "text/plain": [
       "<Figure size 640x480 with 1 Axes>"
      ]
     },
     "metadata": {},
     "output_type": "display_data"
    }
   ],
   "source": [
    "\n",
    "plt.plot(kvalue,sil,marker='*')\n",
    "plt.show()"
   ]
  },
  {
   "cell_type": "code",
   "execution_count": 16,
   "metadata": {
    "colab": {
     "base_uri": "https://localhost:8080/"
    },
    "id": "hk6mvDMMLWfo",
    "outputId": "37b791c2-fc2b-4bb3-a217-e1655d041e61"
   },
   "outputs": [
    {
     "name": "stderr",
     "output_type": "stream",
     "text": [
      "C:\\ProgramData\\anaconda3\\Lib\\site-packages\\sklearn\\cluster\\_kmeans.py:1412: FutureWarning: The default value of `n_init` will change from 10 to 'auto' in 1.4. Set the value of `n_init` explicitly to suppress the warning\n",
      "  super()._check_params_vs_input(X, default_n_init=10)\n",
      "C:\\ProgramData\\anaconda3\\Lib\\site-packages\\sklearn\\cluster\\_kmeans.py:1436: UserWarning: KMeans is known to have a memory leak on Windows with MKL, when there are less chunks than available threads. You can avoid it by setting the environment variable OMP_NUM_THREADS=1.\n",
      "  warnings.warn(\n"
     ]
    },
    {
     "data": {
      "text/plain": [
       "array([0, 0, 0, 0, 0, 0, 1, 0, 1, 1, 1, 1, 1, 1, 1, 1, 0, 0, 0, 0, 1, 1,\n",
       "       1, 1, 1, 1, 1, 1, 1, 1])"
      ]
     },
     "execution_count": 16,
     "metadata": {},
     "output_type": "execute_result"
    }
   ],
   "source": [
    "km=KMeans(n_clusters=2)\n",
    "c=km.fit_predict(frame)\n",
    "c"
   ]
  },
  {
   "cell_type": "code",
   "execution_count": 17,
   "metadata": {
    "colab": {
     "base_uri": "https://localhost:8080/",
     "height": 206
    },
    "id": "ll3jjQNJLknQ",
    "outputId": "a4e32a2f-b2ee-4ee5-f73e-7945286d3384"
   },
   "outputs": [
    {
     "data": {
      "text/html": [
       "<div>\n",
       "<style scoped>\n",
       "    .dataframe tbody tr th:only-of-type {\n",
       "        vertical-align: middle;\n",
       "    }\n",
       "\n",
       "    .dataframe tbody tr th {\n",
       "        vertical-align: top;\n",
       "    }\n",
       "\n",
       "    .dataframe thead th {\n",
       "        text-align: right;\n",
       "    }\n",
       "</style>\n",
       "<table border=\"1\" class=\"dataframe\">\n",
       "  <thead>\n",
       "    <tr style=\"text-align: right;\">\n",
       "      <th></th>\n",
       "      <th>Fe content</th>\n",
       "      <th>Zn content</th>\n",
       "      <th>cluster</th>\n",
       "    </tr>\n",
       "  </thead>\n",
       "  <tbody>\n",
       "    <tr>\n",
       "      <th>0</th>\n",
       "      <td>35.1</td>\n",
       "      <td>48.9</td>\n",
       "      <td>0</td>\n",
       "    </tr>\n",
       "    <tr>\n",
       "      <th>1</th>\n",
       "      <td>33.9</td>\n",
       "      <td>45.3</td>\n",
       "      <td>0</td>\n",
       "    </tr>\n",
       "    <tr>\n",
       "      <th>2</th>\n",
       "      <td>36.3</td>\n",
       "      <td>42.8</td>\n",
       "      <td>0</td>\n",
       "    </tr>\n",
       "    <tr>\n",
       "      <th>3</th>\n",
       "      <td>41.1</td>\n",
       "      <td>48.1</td>\n",
       "      <td>0</td>\n",
       "    </tr>\n",
       "    <tr>\n",
       "      <th>4</th>\n",
       "      <td>40.5</td>\n",
       "      <td>45.3</td>\n",
       "      <td>0</td>\n",
       "    </tr>\n",
       "  </tbody>\n",
       "</table>\n",
       "</div>"
      ],
      "text/plain": [
       "   Fe content  Zn content  cluster\n",
       "0        35.1        48.9        0\n",
       "1        33.9        45.3        0\n",
       "2        36.3        42.8        0\n",
       "3        41.1        48.1        0\n",
       "4        40.5        45.3        0"
      ]
     },
     "execution_count": 17,
     "metadata": {},
     "output_type": "execute_result"
    }
   ],
   "source": [
    "frame['cluster']=c\n",
    "frame.head()"
   ]
  },
  {
   "cell_type": "code",
   "execution_count": 18,
   "metadata": {
    "colab": {
     "base_uri": "https://localhost:8080/",
     "height": 388
    },
    "id": "0zkxkSiPLosG",
    "outputId": "64e49e6d-8c05-4c5f-b6fd-d5bcecaef428"
   },
   "outputs": [
    {
     "data": {
      "image/png": "[encoded data removed]",
      "text/plain": [
       "<Figure size 400x400 with 1 Axes>"
      ]
     },
     "metadata": {},
     "output_type": "display_data"
    }
   ],
   "source": [
    "plt.figure(figsize=(4,4))\n",
    "df1 = frame[frame.cluster==0]\n",
    "df2 = frame[frame.cluster==1]\n",
    "plt.scatter(df1['Fe content'],df1['Zn content'],color='purple')\n",
    "plt.scatter(df2['Fe content'],df2['Zn content'],color='red')\n",
    "plt.xlabel('FE Content')\n",
    "plt.ylabel('ZN Content')\n",
    "plt.show()"
   ]
  },
  {
   "cell_type": "code",
   "execution_count": 19,
   "metadata": {
    "colab": {
     "base_uri": "https://localhost:8080/",
     "height": 1000
    },
    "id": "LDMrkD9Gp251",
    "outputId": "f510f793-f703-4308-8c4e-e5b8f44bbd44"
   },
   "outputs": [
    {
     "data": {
      "text/html": [
       "<div>\n",
       "<style scoped>\n",
       "    .dataframe tbody tr th:only-of-type {\n",
       "        vertical-align: middle;\n",
       "    }\n",
       "\n",
       "    .dataframe tbody tr th {\n",
       "        vertical-align: top;\n",
       "    }\n",
       "\n",
       "    .dataframe thead th {\n",
       "        text-align: right;\n",
       "    }\n",
       "</style>\n",
       "<table border=\"1\" class=\"dataframe\">\n",
       "  <thead>\n",
       "    <tr style=\"text-align: right;\">\n",
       "      <th></th>\n",
       "      <th>Region</th>\n",
       "      <th>Area</th>\n",
       "      <th>Timely sown</th>\n",
       "      <th>Seed</th>\n",
       "      <th>Grain appearance</th>\n",
       "      <th>Hectolitre weight</th>\n",
       "      <th>Protein content</th>\n",
       "      <th>Sedimentation value</th>\n",
       "      <th>Phenol test</th>\n",
       "      <th>Fe content</th>\n",
       "      <th>Zn content</th>\n",
       "      <th>cluster</th>\n",
       "    </tr>\n",
       "  </thead>\n",
       "  <tbody>\n",
       "    <tr>\n",
       "      <th>0</th>\n",
       "      <td>Northern Hills Zone (NHZ)</td>\n",
       "      <td>Almora</td>\n",
       "      <td>Irrigated Timely Sown</td>\n",
       "      <td>HPW349 (C)</td>\n",
       "      <td>5.4</td>\n",
       "      <td>80.0</td>\n",
       "      <td>10.8</td>\n",
       "      <td>55.7</td>\n",
       "      <td>8.5</td>\n",
       "      <td>35.1</td>\n",
       "      <td>48.9</td>\n",
       "      <td>0</td>\n",
       "    </tr>\n",
       "    <tr>\n",
       "      <th>1</th>\n",
       "      <td>Northern Hills Zone (NHZ)</td>\n",
       "      <td>Almora</td>\n",
       "      <td>Irrigated Timely Sown</td>\n",
       "      <td>VL907 (C)</td>\n",
       "      <td>5.4</td>\n",
       "      <td>80.2</td>\n",
       "      <td>11.7</td>\n",
       "      <td>44.2</td>\n",
       "      <td>8.5</td>\n",
       "      <td>33.9</td>\n",
       "      <td>45.3</td>\n",
       "      <td>0</td>\n",
       "    </tr>\n",
       "    <tr>\n",
       "      <th>2</th>\n",
       "      <td>Northern Hills Zone (NHZ)</td>\n",
       "      <td>Almora</td>\n",
       "      <td>Irrigated Timely Sown</td>\n",
       "      <td>HS507 (C)</td>\n",
       "      <td>5.6</td>\n",
       "      <td>80.1</td>\n",
       "      <td>11.1</td>\n",
       "      <td>45.7</td>\n",
       "      <td>7.5</td>\n",
       "      <td>36.3</td>\n",
       "      <td>42.8</td>\n",
       "      <td>0</td>\n",
       "    </tr>\n",
       "    <tr>\n",
       "      <th>3</th>\n",
       "      <td>Northern Hills Zone (NHZ)</td>\n",
       "      <td>Almora</td>\n",
       "      <td>Irrigated Timely Sown</td>\n",
       "      <td>HS562 (C)</td>\n",
       "      <td>5.2</td>\n",
       "      <td>79.9</td>\n",
       "      <td>10.1</td>\n",
       "      <td>53.8</td>\n",
       "      <td>7.5</td>\n",
       "      <td>41.1</td>\n",
       "      <td>48.1</td>\n",
       "      <td>0</td>\n",
       "    </tr>\n",
       "    <tr>\n",
       "      <th>4</th>\n",
       "      <td>Northern Hills Zone (NHZ)</td>\n",
       "      <td>Almora</td>\n",
       "      <td>Irrigated Timely Sown</td>\n",
       "      <td>VL2041</td>\n",
       "      <td>5.6</td>\n",
       "      <td>80.7</td>\n",
       "      <td>9.8</td>\n",
       "      <td>46.5</td>\n",
       "      <td>2.5</td>\n",
       "      <td>40.5</td>\n",
       "      <td>45.3</td>\n",
       "      <td>0</td>\n",
       "    </tr>\n",
       "    <tr>\n",
       "      <th>5</th>\n",
       "      <td>Northern Hills Zone (NHZ)</td>\n",
       "      <td>Shimla</td>\n",
       "      <td>Irrigated Timely Sown</td>\n",
       "      <td>HPW349 (C)</td>\n",
       "      <td>5.4</td>\n",
       "      <td>80.6</td>\n",
       "      <td>10.8</td>\n",
       "      <td>46.5</td>\n",
       "      <td>7.5</td>\n",
       "      <td>39.0</td>\n",
       "      <td>38.5</td>\n",
       "      <td>0</td>\n",
       "    </tr>\n",
       "    <tr>\n",
       "      <th>6</th>\n",
       "      <td>Northern Hills Zone (NHZ)</td>\n",
       "      <td>Shimla</td>\n",
       "      <td>Irrigated Timely Sown</td>\n",
       "      <td>VL907 (C)</td>\n",
       "      <td>5.8</td>\n",
       "      <td>79.2</td>\n",
       "      <td>10.9</td>\n",
       "      <td>36.9</td>\n",
       "      <td>7.0</td>\n",
       "      <td>39.4</td>\n",
       "      <td>36.9</td>\n",
       "      <td>1</td>\n",
       "    </tr>\n",
       "    <tr>\n",
       "      <th>7</th>\n",
       "      <td>Northern Hills Zone (NHZ)</td>\n",
       "      <td>Shimla</td>\n",
       "      <td>Irrigated Timely Sown</td>\n",
       "      <td>HS507 (C)</td>\n",
       "      <td>5.6</td>\n",
       "      <td>79.9</td>\n",
       "      <td>11.3</td>\n",
       "      <td>41.9</td>\n",
       "      <td>7.0</td>\n",
       "      <td>41.8</td>\n",
       "      <td>43.8</td>\n",
       "      <td>0</td>\n",
       "    </tr>\n",
       "    <tr>\n",
       "      <th>8</th>\n",
       "      <td>Northern Hills Zone (NHZ)</td>\n",
       "      <td>Shimla</td>\n",
       "      <td>Irrigated Timely Sown</td>\n",
       "      <td>HS562 (C)</td>\n",
       "      <td>5.6</td>\n",
       "      <td>80.2</td>\n",
       "      <td>10.5</td>\n",
       "      <td>49.6</td>\n",
       "      <td>7.5</td>\n",
       "      <td>35.8</td>\n",
       "      <td>30.1</td>\n",
       "      <td>1</td>\n",
       "    </tr>\n",
       "    <tr>\n",
       "      <th>9</th>\n",
       "      <td>Northern Hills Zone (NHZ)</td>\n",
       "      <td>Shimla</td>\n",
       "      <td>Irrigated Timely Sown</td>\n",
       "      <td>VL2041</td>\n",
       "      <td>5.4</td>\n",
       "      <td>79.6</td>\n",
       "      <td>9.9</td>\n",
       "      <td>40.7</td>\n",
       "      <td>4.0</td>\n",
       "      <td>37.1</td>\n",
       "      <td>30.9</td>\n",
       "      <td>1</td>\n",
       "    </tr>\n",
       "    <tr>\n",
       "      <th>10</th>\n",
       "      <td>Northern Hills Zone (NHZ)</td>\n",
       "      <td>Malan</td>\n",
       "      <td>Irrigated Timely Sown</td>\n",
       "      <td>HPW349 (C)</td>\n",
       "      <td>6.0</td>\n",
       "      <td>79.7</td>\n",
       "      <td>10.7</td>\n",
       "      <td>65.4</td>\n",
       "      <td>8.0</td>\n",
       "      <td>36.1</td>\n",
       "      <td>22.2</td>\n",
       "      <td>1</td>\n",
       "    </tr>\n",
       "    <tr>\n",
       "      <th>11</th>\n",
       "      <td>Northern Hills Zone (NHZ)</td>\n",
       "      <td>Malan</td>\n",
       "      <td>Irrigated Timely Sown</td>\n",
       "      <td>VL907 (C)</td>\n",
       "      <td>6.0</td>\n",
       "      <td>78.5</td>\n",
       "      <td>11.6</td>\n",
       "      <td>44.2</td>\n",
       "      <td>8.0</td>\n",
       "      <td>35.3</td>\n",
       "      <td>26.6</td>\n",
       "      <td>1</td>\n",
       "    </tr>\n",
       "    <tr>\n",
       "      <th>12</th>\n",
       "      <td>Northern Hills Zone (NHZ)</td>\n",
       "      <td>Malan</td>\n",
       "      <td>Irrigated Timely Sown</td>\n",
       "      <td>HS507 (C)</td>\n",
       "      <td>6.8</td>\n",
       "      <td>81.2</td>\n",
       "      <td>10.4</td>\n",
       "      <td>46.1</td>\n",
       "      <td>7.0</td>\n",
       "      <td>36.2</td>\n",
       "      <td>27.9</td>\n",
       "      <td>1</td>\n",
       "    </tr>\n",
       "    <tr>\n",
       "      <th>13</th>\n",
       "      <td>Northern Hills Zone (NHZ)</td>\n",
       "      <td>Malan</td>\n",
       "      <td>Irrigated Timely Sown</td>\n",
       "      <td>HS562 (C)</td>\n",
       "      <td>6.0</td>\n",
       "      <td>79.4</td>\n",
       "      <td>14.3</td>\n",
       "      <td>51.9</td>\n",
       "      <td>8.0</td>\n",
       "      <td>43.6</td>\n",
       "      <td>24.0</td>\n",
       "      <td>1</td>\n",
       "    </tr>\n",
       "    <tr>\n",
       "      <th>14</th>\n",
       "      <td>Northern Hills Zone (NHZ)</td>\n",
       "      <td>Malan</td>\n",
       "      <td>Irrigated Timely Sown</td>\n",
       "      <td>VL2041</td>\n",
       "      <td>5.6</td>\n",
       "      <td>78.4</td>\n",
       "      <td>10.4</td>\n",
       "      <td>57.3</td>\n",
       "      <td>4.5</td>\n",
       "      <td>33.6</td>\n",
       "      <td>22.4</td>\n",
       "      <td>1</td>\n",
       "    </tr>\n",
       "    <tr>\n",
       "      <th>15</th>\n",
       "      <td>Northern Hills Zone (NHZ)</td>\n",
       "      <td>Almora</td>\n",
       "      <td>Rainfed Timely Sown</td>\n",
       "      <td>HS562 (C)</td>\n",
       "      <td>5.0</td>\n",
       "      <td>74.6</td>\n",
       "      <td>14.2</td>\n",
       "      <td>68.8</td>\n",
       "      <td>8.5</td>\n",
       "      <td>40.2</td>\n",
       "      <td>36.2</td>\n",
       "      <td>1</td>\n",
       "    </tr>\n",
       "    <tr>\n",
       "      <th>16</th>\n",
       "      <td>Northern Hills Zone (NHZ)</td>\n",
       "      <td>Almora</td>\n",
       "      <td>Rainfed Timely Sown</td>\n",
       "      <td>HPW349 (C)</td>\n",
       "      <td>4.8</td>\n",
       "      <td>76.0</td>\n",
       "      <td>14.5</td>\n",
       "      <td>70.0</td>\n",
       "      <td>8.0</td>\n",
       "      <td>42.9</td>\n",
       "      <td>50.2</td>\n",
       "      <td>0</td>\n",
       "    </tr>\n",
       "    <tr>\n",
       "      <th>17</th>\n",
       "      <td>Northern Hills Zone (NHZ)</td>\n",
       "      <td>Almora</td>\n",
       "      <td>Rainfed Timely Sown</td>\n",
       "      <td>HS507 (C)</td>\n",
       "      <td>5.0</td>\n",
       "      <td>76.6</td>\n",
       "      <td>13.6</td>\n",
       "      <td>55.4</td>\n",
       "      <td>7.0</td>\n",
       "      <td>38.6</td>\n",
       "      <td>47.9</td>\n",
       "      <td>0</td>\n",
       "    </tr>\n",
       "    <tr>\n",
       "      <th>18</th>\n",
       "      <td>Northern Hills Zone (NHZ)</td>\n",
       "      <td>Almora</td>\n",
       "      <td>Rainfed Timely Sown</td>\n",
       "      <td>VL907 (C)</td>\n",
       "      <td>5.0</td>\n",
       "      <td>74.8</td>\n",
       "      <td>14.3</td>\n",
       "      <td>49.6</td>\n",
       "      <td>8.0</td>\n",
       "      <td>41.3</td>\n",
       "      <td>50.1</td>\n",
       "      <td>0</td>\n",
       "    </tr>\n",
       "    <tr>\n",
       "      <th>19</th>\n",
       "      <td>Northern Hills Zone (NHZ)</td>\n",
       "      <td>Almora</td>\n",
       "      <td>Rainfed Timely Sown</td>\n",
       "      <td>VL2041</td>\n",
       "      <td>4.6</td>\n",
       "      <td>72.7</td>\n",
       "      <td>14.1</td>\n",
       "      <td>69.2</td>\n",
       "      <td>3.0</td>\n",
       "      <td>35.9</td>\n",
       "      <td>40.1</td>\n",
       "      <td>0</td>\n",
       "    </tr>\n",
       "    <tr>\n",
       "      <th>20</th>\n",
       "      <td>Northern Hills Zone (NHZ)</td>\n",
       "      <td>Shimla</td>\n",
       "      <td>Rainfed Timely Sown</td>\n",
       "      <td>HS562 (C)</td>\n",
       "      <td>5.8</td>\n",
       "      <td>80.6</td>\n",
       "      <td>11.6</td>\n",
       "      <td>48.0</td>\n",
       "      <td>7.5</td>\n",
       "      <td>43.5</td>\n",
       "      <td>29.2</td>\n",
       "      <td>1</td>\n",
       "    </tr>\n",
       "    <tr>\n",
       "      <th>21</th>\n",
       "      <td>Northern Hills Zone (NHZ)</td>\n",
       "      <td>Shimla</td>\n",
       "      <td>Rainfed Timely Sown</td>\n",
       "      <td>HPW349 (C)</td>\n",
       "      <td>5.6</td>\n",
       "      <td>80.2</td>\n",
       "      <td>11.6</td>\n",
       "      <td>53.4</td>\n",
       "      <td>7.5</td>\n",
       "      <td>42.3</td>\n",
       "      <td>34.2</td>\n",
       "      <td>1</td>\n",
       "    </tr>\n",
       "    <tr>\n",
       "      <th>22</th>\n",
       "      <td>Northern Hills Zone (NHZ)</td>\n",
       "      <td>Shimla</td>\n",
       "      <td>Rainfed Timely Sown</td>\n",
       "      <td>HS507 (C)</td>\n",
       "      <td>5.8</td>\n",
       "      <td>79.8</td>\n",
       "      <td>12.4</td>\n",
       "      <td>44.6</td>\n",
       "      <td>7.0</td>\n",
       "      <td>39.2</td>\n",
       "      <td>32.8</td>\n",
       "      <td>1</td>\n",
       "    </tr>\n",
       "    <tr>\n",
       "      <th>23</th>\n",
       "      <td>Northern Hills Zone (NHZ)</td>\n",
       "      <td>Shimla</td>\n",
       "      <td>Rainfed Timely Sown</td>\n",
       "      <td>VL907 (C)</td>\n",
       "      <td>5.6</td>\n",
       "      <td>77.6</td>\n",
       "      <td>11.3</td>\n",
       "      <td>38.0</td>\n",
       "      <td>7.5</td>\n",
       "      <td>40.8</td>\n",
       "      <td>34.9</td>\n",
       "      <td>1</td>\n",
       "    </tr>\n",
       "    <tr>\n",
       "      <th>24</th>\n",
       "      <td>Northern Hills Zone (NHZ)</td>\n",
       "      <td>Shimla</td>\n",
       "      <td>Rainfed Timely Sown</td>\n",
       "      <td>VL2041</td>\n",
       "      <td>5.4</td>\n",
       "      <td>77.6</td>\n",
       "      <td>11.0</td>\n",
       "      <td>48.8</td>\n",
       "      <td>5.0</td>\n",
       "      <td>41.4</td>\n",
       "      <td>36.0</td>\n",
       "      <td>1</td>\n",
       "    </tr>\n",
       "    <tr>\n",
       "      <th>25</th>\n",
       "      <td>Northern Hills Zone (NHZ)</td>\n",
       "      <td>Malan</td>\n",
       "      <td>Rainfed Timely Sown</td>\n",
       "      <td>HS562 (C)</td>\n",
       "      <td>6.0</td>\n",
       "      <td>77.9</td>\n",
       "      <td>11.9</td>\n",
       "      <td>43.8</td>\n",
       "      <td>8.0</td>\n",
       "      <td>39.6</td>\n",
       "      <td>31.8</td>\n",
       "      <td>1</td>\n",
       "    </tr>\n",
       "    <tr>\n",
       "      <th>26</th>\n",
       "      <td>Northern Hills Zone (NHZ)</td>\n",
       "      <td>Malan</td>\n",
       "      <td>Rainfed Timely Sown</td>\n",
       "      <td>HPW349 (C)</td>\n",
       "      <td>5.8</td>\n",
       "      <td>76.6</td>\n",
       "      <td>11.7</td>\n",
       "      <td>55.0</td>\n",
       "      <td>7.5</td>\n",
       "      <td>39.4</td>\n",
       "      <td>25.5</td>\n",
       "      <td>1</td>\n",
       "    </tr>\n",
       "    <tr>\n",
       "      <th>27</th>\n",
       "      <td>Northern Hills Zone (NHZ)</td>\n",
       "      <td>Malan</td>\n",
       "      <td>Rainfed Timely Sown</td>\n",
       "      <td>HS507 (C)</td>\n",
       "      <td>6.0</td>\n",
       "      <td>78.2</td>\n",
       "      <td>12.0</td>\n",
       "      <td>50.0</td>\n",
       "      <td>8.0</td>\n",
       "      <td>40.6</td>\n",
       "      <td>35.1</td>\n",
       "      <td>1</td>\n",
       "    </tr>\n",
       "    <tr>\n",
       "      <th>28</th>\n",
       "      <td>Northern Hills Zone (NHZ)</td>\n",
       "      <td>Malan</td>\n",
       "      <td>Rainfed Timely Sown</td>\n",
       "      <td>VL907 (C)</td>\n",
       "      <td>5.6</td>\n",
       "      <td>75.4</td>\n",
       "      <td>12.8</td>\n",
       "      <td>47.3</td>\n",
       "      <td>8.0</td>\n",
       "      <td>36.1</td>\n",
       "      <td>33.3</td>\n",
       "      <td>1</td>\n",
       "    </tr>\n",
       "    <tr>\n",
       "      <th>29</th>\n",
       "      <td>Northern Hills Zone (NHZ)</td>\n",
       "      <td>Malan</td>\n",
       "      <td>Rainfed Timely Sown</td>\n",
       "      <td>VL2041</td>\n",
       "      <td>5.8</td>\n",
       "      <td>76.5</td>\n",
       "      <td>12.5</td>\n",
       "      <td>50.7</td>\n",
       "      <td>4.5</td>\n",
       "      <td>35.4</td>\n",
       "      <td>27.8</td>\n",
       "      <td>1</td>\n",
       "    </tr>\n",
       "  </tbody>\n",
       "</table>\n",
       "</div>"
      ],
      "text/plain": [
       "                       Region    Area            Timely sown        Seed  \\\n",
       "0   Northern Hills Zone (NHZ)  Almora  Irrigated Timely Sown  HPW349 (C)   \n",
       "1   Northern Hills Zone (NHZ)  Almora  Irrigated Timely Sown   VL907 (C)   \n",
       "2   Northern Hills Zone (NHZ)  Almora  Irrigated Timely Sown   HS507 (C)   \n",
       "3   Northern Hills Zone (NHZ)  Almora  Irrigated Timely Sown   HS562 (C)   \n",
       "4   Northern Hills Zone (NHZ)  Almora  Irrigated Timely Sown      VL2041   \n",
       "5   Northern Hills Zone (NHZ)  Shimla  Irrigated Timely Sown  HPW349 (C)   \n",
       "6   Northern Hills Zone (NHZ)  Shimla  Irrigated Timely Sown   VL907 (C)   \n",
       "7   Northern Hills Zone (NHZ)  Shimla  Irrigated Timely Sown   HS507 (C)   \n",
       "8   Northern Hills Zone (NHZ)  Shimla  Irrigated Timely Sown   HS562 (C)   \n",
       "9   Northern Hills Zone (NHZ)  Shimla  Irrigated Timely Sown      VL2041   \n",
       "10  Northern Hills Zone (NHZ)   Malan  Irrigated Timely Sown  HPW349 (C)   \n",
       "11  Northern Hills Zone (NHZ)   Malan  Irrigated Timely Sown   VL907 (C)   \n",
       "12  Northern Hills Zone (NHZ)   Malan  Irrigated Timely Sown   HS507 (C)   \n",
       "13  Northern Hills Zone (NHZ)   Malan  Irrigated Timely Sown   HS562 (C)   \n",
       "14  Northern Hills Zone (NHZ)   Malan  Irrigated Timely Sown      VL2041   \n",
       "15  Northern Hills Zone (NHZ)  Almora    Rainfed Timely Sown   HS562 (C)   \n",
       "16  Northern Hills Zone (NHZ)  Almora    Rainfed Timely Sown  HPW349 (C)   \n",
       "17  Northern Hills Zone (NHZ)  Almora    Rainfed Timely Sown   HS507 (C)   \n",
       "18  Northern Hills Zone (NHZ)  Almora    Rainfed Timely Sown   VL907 (C)   \n",
       "19  Northern Hills Zone (NHZ)  Almora    Rainfed Timely Sown      VL2041   \n",
       "20  Northern Hills Zone (NHZ)  Shimla    Rainfed Timely Sown   HS562 (C)   \n",
       "21  Northern Hills Zone (NHZ)  Shimla    Rainfed Timely Sown  HPW349 (C)   \n",
       "22  Northern Hills Zone (NHZ)  Shimla    Rainfed Timely Sown   HS507 (C)   \n",
       "23  Northern Hills Zone (NHZ)  Shimla    Rainfed Timely Sown   VL907 (C)   \n",
       "24  Northern Hills Zone (NHZ)  Shimla    Rainfed Timely Sown      VL2041   \n",
       "25  Northern Hills Zone (NHZ)   Malan    Rainfed Timely Sown   HS562 (C)   \n",
       "26  Northern Hills Zone (NHZ)   Malan    Rainfed Timely Sown  HPW349 (C)   \n",
       "27  Northern Hills Zone (NHZ)   Malan    Rainfed Timely Sown   HS507 (C)   \n",
       "28  Northern Hills Zone (NHZ)   Malan    Rainfed Timely Sown   VL907 (C)   \n",
       "29  Northern Hills Zone (NHZ)   Malan    Rainfed Timely Sown      VL2041   \n",
       "\n",
       "    Grain appearance  Hectolitre weight  Protein content  Sedimentation value  \\\n",
       "0                5.4               80.0             10.8                 55.7   \n",
       "1                5.4               80.2             11.7                 44.2   \n",
       "2                5.6               80.1             11.1                 45.7   \n",
       "3                5.2               79.9             10.1                 53.8   \n",
       "4                5.6               80.7              9.8                 46.5   \n",
       "5                5.4               80.6             10.8                 46.5   \n",
       "6                5.8               79.2             10.9                 36.9   \n",
       "7                5.6               79.9             11.3                 41.9   \n",
       "8                5.6               80.2             10.5                 49.6   \n",
       "9                5.4               79.6              9.9                 40.7   \n",
       "10               6.0               79.7             10.7                 65.4   \n",
       "11               6.0               78.5             11.6                 44.2   \n",
       "12               6.8               81.2             10.4                 46.1   \n",
       "13               6.0               79.4             14.3                 51.9   \n",
       "14               5.6               78.4             10.4                 57.3   \n",
       "15               5.0               74.6             14.2                 68.8   \n",
       "16               4.8               76.0             14.5                 70.0   \n",
       "17               5.0               76.6             13.6                 55.4   \n",
       "18               5.0               74.8             14.3                 49.6   \n",
       "19               4.6               72.7             14.1                 69.2   \n",
       "20               5.8               80.6             11.6                 48.0   \n",
       "21               5.6               80.2             11.6                 53.4   \n",
       "22               5.8               79.8             12.4                 44.6   \n",
       "23               5.6               77.6             11.3                 38.0   \n",
       "24               5.4               77.6             11.0                 48.8   \n",
       "25               6.0               77.9             11.9                 43.8   \n",
       "26               5.8               76.6             11.7                 55.0   \n",
       "27               6.0               78.2             12.0                 50.0   \n",
       "28               5.6               75.4             12.8                 47.3   \n",
       "29               5.8               76.5             12.5                 50.7   \n",
       "\n",
       "    Phenol test  Fe content  Zn content  cluster  \n",
       "0           8.5        35.1        48.9        0  \n",
       "1           8.5        33.9        45.3        0  \n",
       "2           7.5        36.3        42.8        0  \n",
       "3           7.5        41.1        48.1        0  \n",
       "4           2.5        40.5        45.3        0  \n",
       "5           7.5        39.0        38.5        0  \n",
       "6           7.0        39.4        36.9        1  \n",
       "7           7.0        41.8        43.8        0  \n",
       "8           7.5        35.8        30.1        1  \n",
       "9           4.0        37.1        30.9        1  \n",
       "10          8.0        36.1        22.2        1  \n",
       "11          8.0        35.3        26.6        1  \n",
       "12          7.0        36.2        27.9        1  \n",
       "13          8.0        43.6        24.0        1  \n",
       "14          4.5        33.6        22.4        1  \n",
       "15          8.5        40.2        36.2        1  \n",
       "16          8.0        42.9        50.2        0  \n",
       "17          7.0        38.6        47.9        0  \n",
       "18          8.0        41.3        50.1        0  \n",
       "19          3.0        35.9        40.1        0  \n",
       "20          7.5        43.5        29.2        1  \n",
       "21          7.5        42.3        34.2        1  \n",
       "22          7.0        39.2        32.8        1  \n",
       "23          7.5        40.8        34.9        1  \n",
       "24          5.0        41.4        36.0        1  \n",
       "25          8.0        39.6        31.8        1  \n",
       "26          7.5        39.4        25.5        1  \n",
       "27          8.0        40.6        35.1        1  \n",
       "28          8.0        36.1        33.3        1  \n",
       "29          4.5        35.4        27.8        1  "
      ]
     },
     "execution_count": 19,
     "metadata": {},
     "output_type": "execute_result"
    }
   ],
   "source": [
    "df['cluster']=c\n",
    "df.head(95)"
   ]
  },
  {
   "cell_type": "code",
   "execution_count": 20,
   "metadata": {
    "colab": {
     "base_uri": "https://localhost:8080/"
    },
    "id": "RROdm9zKquNw",
    "outputId": "8f31aa8a-91e8-4925-d0d1-abea6c080d9f"
   },
   "outputs": [
    {
     "data": {
      "text/plain": [
       "Fe content    38.763636\n",
       "Zn content    45.545455\n",
       "cluster        0.000000\n",
       "dtype: float64"
      ]
     },
     "execution_count": 20,
     "metadata": {},
     "output_type": "execute_result"
    }
   ],
   "source": [
    "df1.mean()"
   ]
  },
  {
   "cell_type": "code",
   "execution_count": 21,
   "metadata": {
    "colab": {
     "base_uri": "https://localhost:8080/"
    },
    "id": "xQ3tRXw-q9vA",
    "outputId": "af1fa146-c73f-42e0-a77c-3ef70846d739"
   },
   "outputs": [
    {
     "data": {
      "text/plain": [
       "Fe content    38.715789\n",
       "Zn content    30.410526\n",
       "cluster        1.000000\n",
       "dtype: float64"
      ]
     },
     "execution_count": 21,
     "metadata": {},
     "output_type": "execute_result"
    }
   ],
   "source": [
    "df2.mean()"
   ]
  },
  {
   "cell_type": "code",
   "execution_count": 22,
   "metadata": {
    "id": "yrx0hVgsrKEc"
   },
   "outputs": [],
   "source": [
    "df.to_csv('NHZ_whole.csv')"
   ]
  },
  {
   "cell_type": "code",
   "execution_count": 23,
   "metadata": {
    "id": "JpAZ-9fodhfn"
   },
   "outputs": [
    {
     "data": {
      "text/plain": [
       "2.9024355688636665"
      ]
     },
     "execution_count": 23,
     "metadata": {},
     "output_type": "execute_result"
    }
   ],
   "source": [
    "import numpy as np\n",
    "# Calculate the standard deviation\n",
    "standard_deviation = np.std(df1['Fe content'])\n",
    "\n",
    "standard_deviation\n"
   ]
  },
  {
   "cell_type": "code",
   "execution_count": 24,
   "metadata": {},
   "outputs": [
    {
     "data": {
      "text/plain": [
       "3.762582197559069"
      ]
     },
     "execution_count": 24,
     "metadata": {},
     "output_type": "execute_result"
    }
   ],
   "source": [
    "import numpy as np\n",
    "# Calculate the standard deviation\n",
    "standard_deviation = np.std(df1['Zn content'])\n",
    "\n",
    "standard_deviation\n"
   ]
  },
  {
   "cell_type": "code",
   "execution_count": 25,
   "metadata": {},
   "outputs": [
    {
     "data": {
      "text/plain": [
       "2.8910502840926777"
      ]
     },
     "execution_count": 25,
     "metadata": {},
     "output_type": "execute_result"
    }
   ],
   "source": [
    "import numpy as np\n",
    "# Calculate the standard deviation\n",
    "standard_deviation = np.std(df2['Fe content'])\n",
    "\n",
    "standard_deviation\n"
   ]
  },
  {
   "cell_type": "code",
   "execution_count": 26,
   "metadata": {},
   "outputs": [
    {
     "data": {
      "text/plain": [
       "4.62030925563739"
      ]
     },
     "execution_count": 26,
     "metadata": {},
     "output_type": "execute_result"
    }
   ],
   "source": [
    "import numpy as np\n",
    "# Calculate the standard deviation\n",
    "standard_deviation = np.std(df2['Zn content'])\n",
    "\n",
    "standard_deviation\n"
   ]
  }
 ],
 "metadata": {
  "colab": {
   "provenance": []
  },
  "kernelspec": {
   "display_name": "Python 3 (ipykernel)",
   "language": "python",
   "name": "python3"
  },
  "language_info": {
   "codemirror_mode": {
    "name": "ipython",
    "version": 3
   },
   "file_extension": ".py",
   "mimetype": "text/x-python",
   "name": "python",
   "nbconvert_exporter": "python",
   "pygments_lexer": "ipython3",
   "version": "3.11.4"
  }
 },
 "nbformat": 4,
 "nbformat_minor": 1
}
