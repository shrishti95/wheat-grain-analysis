{
 "cells": [
  {
   "cell_type": "code",
   "execution_count": 3,
   "metadata": {
    "id": "3dRd2hH_HEyH"
   },
   "outputs": [],
   "source": [
    "import numpy as np\n",
    "import pandas as pd\n",
    "import matplotlib.pyplot as plt"
   ]
  },
  {
   "cell_type": "code",
   "execution_count": 4,
   "metadata": {
    "id": "foALdm-GHR8k"
   },
   "outputs": [],
   "source": [
    "df=pd.read_excel('NHZ_irrigation.xlsx')"
   ]
  },
  {
   "cell_type": "code",
   "execution_count": 5,
   "metadata": {
    "colab": {
     "base_uri": "https://localhost:8080/",
     "height": 310
    },
    "id": "Ek5vF150Hby9",
    "outputId": "eae85132-17d6-4f37-fa9f-36daa25aae0b"
   },
   "outputs": [
    {
     "data": {
      "text/html": [
       "<div>\n",
       "<style scoped>\n",
       "    .dataframe tbody tr th:only-of-type {\n",
       "        vertical-align: middle;\n",
       "    }\n",
       "\n",
       "    .dataframe tbody tr th {\n",
       "        vertical-align: top;\n",
       "    }\n",
       "\n",
       "    .dataframe thead th {\n",
       "        text-align: right;\n",
       "    }\n",
       "</style>\n",
       "<table border=\"1\" class=\"dataframe\">\n",
       "  <thead>\n",
       "    <tr style=\"text-align: right;\">\n",
       "      <th></th>\n",
       "      <th>Region</th>\n",
       "      <th>Area</th>\n",
       "      <th>Timely sown</th>\n",
       "      <th>Seed</th>\n",
       "      <th>Grain appearance</th>\n",
       "      <th>Hectolitre weight</th>\n",
       "      <th>Protein content</th>\n",
       "      <th>Sedimentation value</th>\n",
       "      <th>Phenol test</th>\n",
       "      <th>Fe content</th>\n",
       "      <th>Zn content</th>\n",
       "    </tr>\n",
       "  </thead>\n",
       "  <tbody>\n",
       "    <tr>\n",
       "      <th>0</th>\n",
       "      <td>Northern Hills Zone (NHZ)</td>\n",
       "      <td>Almora</td>\n",
       "      <td>Irrigated Timely Sown</td>\n",
       "      <td>HPW349 (C)</td>\n",
       "      <td>5.4</td>\n",
       "      <td>80.0</td>\n",
       "      <td>10.8</td>\n",
       "      <td>55.7</td>\n",
       "      <td>8.5</td>\n",
       "      <td>35.1</td>\n",
       "      <td>48.9</td>\n",
       "    </tr>\n",
       "    <tr>\n",
       "      <th>1</th>\n",
       "      <td>Northern Hills Zone (NHZ)</td>\n",
       "      <td>Almora</td>\n",
       "      <td>Irrigated Timely Sown</td>\n",
       "      <td>VL907 (C)</td>\n",
       "      <td>5.4</td>\n",
       "      <td>80.2</td>\n",
       "      <td>11.7</td>\n",
       "      <td>44.2</td>\n",
       "      <td>8.5</td>\n",
       "      <td>33.9</td>\n",
       "      <td>45.3</td>\n",
       "    </tr>\n",
       "    <tr>\n",
       "      <th>2</th>\n",
       "      <td>Northern Hills Zone (NHZ)</td>\n",
       "      <td>Almora</td>\n",
       "      <td>Irrigated Timely Sown</td>\n",
       "      <td>HS507 (C)</td>\n",
       "      <td>5.6</td>\n",
       "      <td>80.1</td>\n",
       "      <td>11.1</td>\n",
       "      <td>45.7</td>\n",
       "      <td>7.5</td>\n",
       "      <td>36.3</td>\n",
       "      <td>42.8</td>\n",
       "    </tr>\n",
       "    <tr>\n",
       "      <th>3</th>\n",
       "      <td>Northern Hills Zone (NHZ)</td>\n",
       "      <td>Almora</td>\n",
       "      <td>Irrigated Timely Sown</td>\n",
       "      <td>HS562 (C)</td>\n",
       "      <td>5.2</td>\n",
       "      <td>79.9</td>\n",
       "      <td>10.1</td>\n",
       "      <td>53.8</td>\n",
       "      <td>7.5</td>\n",
       "      <td>41.1</td>\n",
       "      <td>48.1</td>\n",
       "    </tr>\n",
       "    <tr>\n",
       "      <th>4</th>\n",
       "      <td>Northern Hills Zone (NHZ)</td>\n",
       "      <td>Almora</td>\n",
       "      <td>Irrigated Timely Sown</td>\n",
       "      <td>VL2041</td>\n",
       "      <td>5.6</td>\n",
       "      <td>80.7</td>\n",
       "      <td>9.8</td>\n",
       "      <td>46.5</td>\n",
       "      <td>2.5</td>\n",
       "      <td>40.5</td>\n",
       "      <td>45.3</td>\n",
       "    </tr>\n",
       "  </tbody>\n",
       "</table>\n",
       "</div>"
      ],
      "text/plain": [
       "                      Region    Area            Timely sown        Seed  \\\n",
       "0  Northern Hills Zone (NHZ)  Almora  Irrigated Timely Sown  HPW349 (C)   \n",
       "1  Northern Hills Zone (NHZ)  Almora  Irrigated Timely Sown   VL907 (C)   \n",
       "2  Northern Hills Zone (NHZ)  Almora  Irrigated Timely Sown   HS507 (C)   \n",
       "3  Northern Hills Zone (NHZ)  Almora  Irrigated Timely Sown   HS562 (C)   \n",
       "4  Northern Hills Zone (NHZ)  Almora  Irrigated Timely Sown      VL2041   \n",
       "\n",
       "   Grain appearance  Hectolitre weight  Protein content  Sedimentation value  \\\n",
       "0               5.4               80.0             10.8                 55.7   \n",
       "1               5.4               80.2             11.7                 44.2   \n",
       "2               5.6               80.1             11.1                 45.7   \n",
       "3               5.2               79.9             10.1                 53.8   \n",
       "4               5.6               80.7              9.8                 46.5   \n",
       "\n",
       "   Phenol test  Fe content  Zn content  \n",
       "0          8.5        35.1        48.9  \n",
       "1          8.5        33.9        45.3  \n",
       "2          7.5        36.3        42.8  \n",
       "3          7.5        41.1        48.1  \n",
       "4          2.5        40.5        45.3  "
      ]
     },
     "execution_count": 5,
     "metadata": {},
     "output_type": "execute_result"
    }
   ],
   "source": [
    "df.head()"
   ]
  },
  {
   "cell_type": "code",
   "execution_count": 6,
   "metadata": {
    "colab": {
     "base_uri": "https://localhost:8080/"
    },
    "id": "SnTk98cdHgIL",
    "outputId": "2f9421b2-4396-4ff0-d317-1b54b072274d"
   },
   "outputs": [
    {
     "data": {
      "text/plain": [
       "(15, 11)"
      ]
     },
     "execution_count": 6,
     "metadata": {},
     "output_type": "execute_result"
    }
   ],
   "source": [
    "df.shape"
   ]
  },
  {
   "cell_type": "code",
   "execution_count": 7,
   "metadata": {
    "colab": {
     "base_uri": "https://localhost:8080/"
    },
    "id": "A_gB31WJHlzu",
    "outputId": "153e980c-4c40-48f8-ccaf-e86fe228d0ab"
   },
   "outputs": [
    {
     "data": {
      "text/plain": [
       "Region                 0\n",
       "Area                   0\n",
       "Timely sown            0\n",
       "Seed                   0\n",
       "Grain appearance       0\n",
       "Hectolitre weight      0\n",
       "Protein content        0\n",
       "Sedimentation value    0\n",
       "Phenol test            0\n",
       "Fe content             0\n",
       "Zn content             0\n",
       "dtype: int64"
      ]
     },
     "execution_count": 7,
     "metadata": {},
     "output_type": "execute_result"
    }
   ],
   "source": [
    "df.isnull().sum()"
   ]
  },
  {
   "cell_type": "code",
   "execution_count": 8,
   "metadata": {
    "colab": {
     "base_uri": "https://localhost:8080/",
     "height": 519
    },
    "id": "zUd_urbVHt4P",
    "outputId": "bb2231f2-daf4-464b-d142-00064c10234b"
   },
   "outputs": [
    {
     "data": {
      "text/html": [
       "<div>\n",
       "<style scoped>\n",
       "    .dataframe tbody tr th:only-of-type {\n",
       "        vertical-align: middle;\n",
       "    }\n",
       "\n",
       "    .dataframe tbody tr th {\n",
       "        vertical-align: top;\n",
       "    }\n",
       "\n",
       "    .dataframe thead th {\n",
       "        text-align: right;\n",
       "    }\n",
       "</style>\n",
       "<table border=\"1\" class=\"dataframe\">\n",
       "  <thead>\n",
       "    <tr style=\"text-align: right;\">\n",
       "      <th></th>\n",
       "      <th>Fe content</th>\n",
       "      <th>Zn content</th>\n",
       "    </tr>\n",
       "  </thead>\n",
       "  <tbody>\n",
       "    <tr>\n",
       "      <th>0</th>\n",
       "      <td>35.1</td>\n",
       "      <td>48.9</td>\n",
       "    </tr>\n",
       "    <tr>\n",
       "      <th>1</th>\n",
       "      <td>33.9</td>\n",
       "      <td>45.3</td>\n",
       "    </tr>\n",
       "    <tr>\n",
       "      <th>2</th>\n",
       "      <td>36.3</td>\n",
       "      <td>42.8</td>\n",
       "    </tr>\n",
       "    <tr>\n",
       "      <th>3</th>\n",
       "      <td>41.1</td>\n",
       "      <td>48.1</td>\n",
       "    </tr>\n",
       "    <tr>\n",
       "      <th>4</th>\n",
       "      <td>40.5</td>\n",
       "      <td>45.3</td>\n",
       "    </tr>\n",
       "    <tr>\n",
       "      <th>5</th>\n",
       "      <td>39.0</td>\n",
       "      <td>38.5</td>\n",
       "    </tr>\n",
       "    <tr>\n",
       "      <th>6</th>\n",
       "      <td>39.4</td>\n",
       "      <td>36.9</td>\n",
       "    </tr>\n",
       "    <tr>\n",
       "      <th>7</th>\n",
       "      <td>41.8</td>\n",
       "      <td>43.8</td>\n",
       "    </tr>\n",
       "    <tr>\n",
       "      <th>8</th>\n",
       "      <td>35.8</td>\n",
       "      <td>30.1</td>\n",
       "    </tr>\n",
       "    <tr>\n",
       "      <th>9</th>\n",
       "      <td>37.1</td>\n",
       "      <td>30.9</td>\n",
       "    </tr>\n",
       "    <tr>\n",
       "      <th>10</th>\n",
       "      <td>36.1</td>\n",
       "      <td>22.2</td>\n",
       "    </tr>\n",
       "    <tr>\n",
       "      <th>11</th>\n",
       "      <td>35.3</td>\n",
       "      <td>26.6</td>\n",
       "    </tr>\n",
       "    <tr>\n",
       "      <th>12</th>\n",
       "      <td>36.2</td>\n",
       "      <td>27.9</td>\n",
       "    </tr>\n",
       "    <tr>\n",
       "      <th>13</th>\n",
       "      <td>43.6</td>\n",
       "      <td>24.0</td>\n",
       "    </tr>\n",
       "    <tr>\n",
       "      <th>14</th>\n",
       "      <td>33.6</td>\n",
       "      <td>22.4</td>\n",
       "    </tr>\n",
       "  </tbody>\n",
       "</table>\n",
       "</div>"
      ],
      "text/plain": [
       "    Fe content  Zn content\n",
       "0         35.1        48.9\n",
       "1         33.9        45.3\n",
       "2         36.3        42.8\n",
       "3         41.1        48.1\n",
       "4         40.5        45.3\n",
       "5         39.0        38.5\n",
       "6         39.4        36.9\n",
       "7         41.8        43.8\n",
       "8         35.8        30.1\n",
       "9         37.1        30.9\n",
       "10        36.1        22.2\n",
       "11        35.3        26.6\n",
       "12        36.2        27.9\n",
       "13        43.6        24.0\n",
       "14        33.6        22.4"
      ]
     },
     "execution_count": 8,
     "metadata": {},
     "output_type": "execute_result"
    }
   ],
   "source": [
    "df.iloc[:,9:]"
   ]
  },
  {
   "cell_type": "code",
   "execution_count": 9,
   "metadata": {
    "id": "Lp_4eeDiJhyF"
   },
   "outputs": [],
   "source": [
    "frame=pd.DataFrame(df.iloc[:,9:])"
   ]
  },
  {
   "cell_type": "code",
   "execution_count": 10,
   "metadata": {
    "colab": {
     "base_uri": "https://localhost:8080/",
     "height": 206
    },
    "id": "JT2bJx-_Jkzx",
    "outputId": "f088910d-3014-405c-88e0-0fc016eb299e"
   },
   "outputs": [
    {
     "data": {
      "text/html": [
       "<div>\n",
       "<style scoped>\n",
       "    .dataframe tbody tr th:only-of-type {\n",
       "        vertical-align: middle;\n",
       "    }\n",
       "\n",
       "    .dataframe tbody tr th {\n",
       "        vertical-align: top;\n",
       "    }\n",
       "\n",
       "    .dataframe thead th {\n",
       "        text-align: right;\n",
       "    }\n",
       "</style>\n",
       "<table border=\"1\" class=\"dataframe\">\n",
       "  <thead>\n",
       "    <tr style=\"text-align: right;\">\n",
       "      <th></th>\n",
       "      <th>Fe content</th>\n",
       "      <th>Zn content</th>\n",
       "    </tr>\n",
       "  </thead>\n",
       "  <tbody>\n",
       "    <tr>\n",
       "      <th>0</th>\n",
       "      <td>35.1</td>\n",
       "      <td>48.9</td>\n",
       "    </tr>\n",
       "    <tr>\n",
       "      <th>1</th>\n",
       "      <td>33.9</td>\n",
       "      <td>45.3</td>\n",
       "    </tr>\n",
       "    <tr>\n",
       "      <th>2</th>\n",
       "      <td>36.3</td>\n",
       "      <td>42.8</td>\n",
       "    </tr>\n",
       "    <tr>\n",
       "      <th>3</th>\n",
       "      <td>41.1</td>\n",
       "      <td>48.1</td>\n",
       "    </tr>\n",
       "    <tr>\n",
       "      <th>4</th>\n",
       "      <td>40.5</td>\n",
       "      <td>45.3</td>\n",
       "    </tr>\n",
       "  </tbody>\n",
       "</table>\n",
       "</div>"
      ],
      "text/plain": [
       "   Fe content  Zn content\n",
       "0        35.1        48.9\n",
       "1        33.9        45.3\n",
       "2        36.3        42.8\n",
       "3        41.1        48.1\n",
       "4        40.5        45.3"
      ]
     },
     "execution_count": 10,
     "metadata": {},
     "output_type": "execute_result"
    }
   ],
   "source": [
    "frame.head()"
   ]
  },
  {
   "cell_type": "code",
   "execution_count": 11,
   "metadata": {
    "colab": {
     "base_uri": "https://localhost:8080/",
     "height": 432
    },
    "id": "jpn4jfQxJpo6",
    "outputId": "b9e55595-6869-47a5-fea8-cc710706ccea"
   },
   "outputs": [
    {
     "data": {
      "image/png": "[encoded data removed]",
      "text/plain": [
       "<Figure size 640x480 with 1 Axes>"
      ]
     },
     "metadata": {},
     "output_type": "display_data"
    }
   ],
   "source": [
    "plt.scatter(frame['Fe content'],frame['Zn content'])\n",
    "plt.show()"
   ]
  },
  {
   "cell_type": "code",
   "execution_count": 12,
   "metadata": {
    "id": "Nfk_lwG_Jtxr"
   },
   "outputs": [],
   "source": [
    "from sklearn.cluster import KMeans"
   ]
  },
  {
   "cell_type": "code",
   "execution_count": 13,
   "metadata": {
    "colab": {
     "base_uri": "https://localhost:8080/"
    },
    "id": "cTHzrRcCKKrK",
    "outputId": "3a15cc1d-0c4f-4cac-e685-04e040a66386"
   },
   "outputs": [
    {
     "name": "stderr",
     "output_type": "stream",
     "text": [
      "C:\\ProgramData\\anaconda3\\Lib\\site-packages\\sklearn\\cluster\\_kmeans.py:1412: FutureWarning: The default value of `n_init` will change from 10 to 'auto' in 1.4. Set the value of `n_init` explicitly to suppress the warning\n",
      "  super()._check_params_vs_input(X, default_n_init=10)\n",
      "C:\\ProgramData\\anaconda3\\Lib\\site-packages\\sklearn\\cluster\\_kmeans.py:1436: UserWarning: KMeans is known to have a memory leak on Windows with MKL, when there are less chunks than available threads. You can avoid it by setting the environment variable OMP_NUM_THREADS=1.\n",
      "  warnings.warn(\n",
      "C:\\ProgramData\\anaconda3\\Lib\\site-packages\\sklearn\\cluster\\_kmeans.py:1412: FutureWarning: The default value of `n_init` will change from 10 to 'auto' in 1.4. Set the value of `n_init` explicitly to suppress the warning\n",
      "  super()._check_params_vs_input(X, default_n_init=10)\n",
      "C:\\ProgramData\\anaconda3\\Lib\\site-packages\\sklearn\\cluster\\_kmeans.py:1436: UserWarning: KMeans is known to have a memory leak on Windows with MKL, when there are less chunks than available threads. You can avoid it by setting the environment variable OMP_NUM_THREADS=1.\n",
      "  warnings.warn(\n",
      "C:\\ProgramData\\anaconda3\\Lib\\site-packages\\sklearn\\cluster\\_kmeans.py:1412: FutureWarning: The default value of `n_init` will change from 10 to 'auto' in 1.4. Set the value of `n_init` explicitly to suppress the warning\n",
      "  super()._check_params_vs_input(X, default_n_init=10)\n",
      "C:\\ProgramData\\anaconda3\\Lib\\site-packages\\sklearn\\cluster\\_kmeans.py:1436: UserWarning: KMeans is known to have a memory leak on Windows with MKL, when there are less chunks than available threads. You can avoid it by setting the environment variable OMP_NUM_THREADS=1.\n",
      "  warnings.warn(\n",
      "C:\\ProgramData\\anaconda3\\Lib\\site-packages\\sklearn\\cluster\\_kmeans.py:1412: FutureWarning: The default value of `n_init` will change from 10 to 'auto' in 1.4. Set the value of `n_init` explicitly to suppress the warning\n",
      "  super()._check_params_vs_input(X, default_n_init=10)\n",
      "C:\\ProgramData\\anaconda3\\Lib\\site-packages\\sklearn\\cluster\\_kmeans.py:1436: UserWarning: KMeans is known to have a memory leak on Windows with MKL, when there are less chunks than available threads. You can avoid it by setting the environment variable OMP_NUM_THREADS=1.\n",
      "  warnings.warn(\n",
      "C:\\ProgramData\\anaconda3\\Lib\\site-packages\\sklearn\\cluster\\_kmeans.py:1412: FutureWarning: The default value of `n_init` will change from 10 to 'auto' in 1.4. Set the value of `n_init` explicitly to suppress the warning\n",
      "  super()._check_params_vs_input(X, default_n_init=10)\n",
      "C:\\ProgramData\\anaconda3\\Lib\\site-packages\\sklearn\\cluster\\_kmeans.py:1436: UserWarning: KMeans is known to have a memory leak on Windows with MKL, when there are less chunks than available threads. You can avoid it by setting the environment variable OMP_NUM_THREADS=1.\n",
      "  warnings.warn(\n",
      "C:\\ProgramData\\anaconda3\\Lib\\site-packages\\sklearn\\cluster\\_kmeans.py:1412: FutureWarning: The default value of `n_init` will change from 10 to 'auto' in 1.4. Set the value of `n_init` explicitly to suppress the warning\n",
      "  super()._check_params_vs_input(X, default_n_init=10)\n",
      "C:\\ProgramData\\anaconda3\\Lib\\site-packages\\sklearn\\cluster\\_kmeans.py:1436: UserWarning: KMeans is known to have a memory leak on Windows with MKL, when there are less chunks than available threads. You can avoid it by setting the environment variable OMP_NUM_THREADS=1.\n",
      "  warnings.warn(\n",
      "C:\\ProgramData\\anaconda3\\Lib\\site-packages\\sklearn\\cluster\\_kmeans.py:1412: FutureWarning: The default value of `n_init` will change from 10 to 'auto' in 1.4. Set the value of `n_init` explicitly to suppress the warning\n",
      "  super()._check_params_vs_input(X, default_n_init=10)\n",
      "C:\\ProgramData\\anaconda3\\Lib\\site-packages\\sklearn\\cluster\\_kmeans.py:1436: UserWarning: KMeans is known to have a memory leak on Windows with MKL, when there are less chunks than available threads. You can avoid it by setting the environment variable OMP_NUM_THREADS=1.\n",
      "  warnings.warn(\n",
      "C:\\ProgramData\\anaconda3\\Lib\\site-packages\\sklearn\\cluster\\_kmeans.py:1412: FutureWarning: The default value of `n_init` will change from 10 to 'auto' in 1.4. Set the value of `n_init` explicitly to suppress the warning\n",
      "  super()._check_params_vs_input(X, default_n_init=10)\n",
      "C:\\ProgramData\\anaconda3\\Lib\\site-packages\\sklearn\\cluster\\_kmeans.py:1436: UserWarning: KMeans is known to have a memory leak on Windows with MKL, when there are less chunks than available threads. You can avoid it by setting the environment variable OMP_NUM_THREADS=1.\n",
      "  warnings.warn(\n",
      "C:\\ProgramData\\anaconda3\\Lib\\site-packages\\sklearn\\cluster\\_kmeans.py:1412: FutureWarning: The default value of `n_init` will change from 10 to 'auto' in 1.4. Set the value of `n_init` explicitly to suppress the warning\n",
      "  super()._check_params_vs_input(X, default_n_init=10)\n",
      "C:\\ProgramData\\anaconda3\\Lib\\site-packages\\sklearn\\cluster\\_kmeans.py:1436: UserWarning: KMeans is known to have a memory leak on Windows with MKL, when there are less chunks than available threads. You can avoid it by setting the environment variable OMP_NUM_THREADS=1.\n",
      "  warnings.warn(\n",
      "C:\\ProgramData\\anaconda3\\Lib\\site-packages\\sklearn\\cluster\\_kmeans.py:1412: FutureWarning: The default value of `n_init` will change from 10 to 'auto' in 1.4. Set the value of `n_init` explicitly to suppress the warning\n",
      "  super()._check_params_vs_input(X, default_n_init=10)\n",
      "C:\\ProgramData\\anaconda3\\Lib\\site-packages\\sklearn\\cluster\\_kmeans.py:1436: UserWarning: KMeans is known to have a memory leak on Windows with MKL, when there are less chunks than available threads. You can avoid it by setting the environment variable OMP_NUM_THREADS=1.\n",
      "  warnings.warn(\n",
      "C:\\ProgramData\\anaconda3\\Lib\\site-packages\\sklearn\\cluster\\_kmeans.py:1412: FutureWarning: The default value of `n_init` will change from 10 to 'auto' in 1.4. Set the value of `n_init` explicitly to suppress the warning\n",
      "  super()._check_params_vs_input(X, default_n_init=10)\n",
      "C:\\ProgramData\\anaconda3\\Lib\\site-packages\\sklearn\\cluster\\_kmeans.py:1436: UserWarning: KMeans is known to have a memory leak on Windows with MKL, when there are less chunks than available threads. You can avoid it by setting the environment variable OMP_NUM_THREADS=1.\n",
      "  warnings.warn(\n",
      "C:\\ProgramData\\anaconda3\\Lib\\site-packages\\sklearn\\cluster\\_kmeans.py:1412: FutureWarning: The default value of `n_init` will change from 10 to 'auto' in 1.4. Set the value of `n_init` explicitly to suppress the warning\n",
      "  super()._check_params_vs_input(X, default_n_init=10)\n",
      "C:\\ProgramData\\anaconda3\\Lib\\site-packages\\sklearn\\cluster\\_kmeans.py:1436: UserWarning: KMeans is known to have a memory leak on Windows with MKL, when there are less chunks than available threads. You can avoid it by setting the environment variable OMP_NUM_THREADS=1.\n",
      "  warnings.warn(\n",
      "C:\\ProgramData\\anaconda3\\Lib\\site-packages\\sklearn\\cluster\\_kmeans.py:1412: FutureWarning: The default value of `n_init` will change from 10 to 'auto' in 1.4. Set the value of `n_init` explicitly to suppress the warning\n",
      "  super()._check_params_vs_input(X, default_n_init=10)\n",
      "C:\\ProgramData\\anaconda3\\Lib\\site-packages\\sklearn\\cluster\\_kmeans.py:1436: UserWarning: KMeans is known to have a memory leak on Windows with MKL, when there are less chunks than available threads. You can avoid it by setting the environment variable OMP_NUM_THREADS=1.\n",
      "  warnings.warn(\n"
     ]
    }
   ],
   "source": [
    "k_rng=range(1,14)\n",
    "sse=[]\n",
    "for k in k_rng:\n",
    "    km=KMeans(n_clusters=k)\n",
    "    km.fit(frame[['Fe content','Zn content']])\n",
    "    sse.append(km.inertia_)"
   ]
  },
  {
   "cell_type": "code",
   "execution_count": 14,
   "metadata": {
    "colab": {
     "base_uri": "https://localhost:8080/",
     "height": 430
    },
    "id": "ZTYQq7KmLDnh",
    "outputId": "43646f4e-f948-42d2-a8e5-6c6a708022f3"
   },
   "outputs": [
    {
     "data": {
      "image/png": "[encoded data removed]",
      "text/plain": [
       "<Figure size 640x480 with 1 Axes>"
      ]
     },
     "metadata": {},
     "output_type": "display_data"
    }
   ],
   "source": [
    "plt.plot(k_rng,sse)\n",
    "plt.show()"
   ]
  },
  {
   "cell_type": "code",
   "execution_count": 15,
   "metadata": {
    "id": "zT4WcRh5LHt6"
   },
   "outputs": [],
   "source": [
    "import sklearn.metrics as metrics"
   ]
  },
  {
   "cell_type": "code",
   "execution_count": 16,
   "metadata": {
    "colab": {
     "base_uri": "https://localhost:8080/"
    },
    "id": "LjBXHj4pLNO_",
    "outputId": "eadcef7d-0fb3-4335-e0f3-026db07965e7"
   },
   "outputs": [
    {
     "name": "stderr",
     "output_type": "stream",
     "text": [
      "C:\\ProgramData\\anaconda3\\Lib\\site-packages\\sklearn\\cluster\\_kmeans.py:1412: FutureWarning: The default value of `n_init` will change from 10 to 'auto' in 1.4. Set the value of `n_init` explicitly to suppress the warning\n",
      "  super()._check_params_vs_input(X, default_n_init=10)\n",
      "C:\\ProgramData\\anaconda3\\Lib\\site-packages\\sklearn\\cluster\\_kmeans.py:1436: UserWarning: KMeans is known to have a memory leak on Windows with MKL, when there are less chunks than available threads. You can avoid it by setting the environment variable OMP_NUM_THREADS=1.\n",
      "  warnings.warn(\n",
      "C:\\ProgramData\\anaconda3\\Lib\\site-packages\\sklearn\\cluster\\_kmeans.py:1412: FutureWarning: The default value of `n_init` will change from 10 to 'auto' in 1.4. Set the value of `n_init` explicitly to suppress the warning\n",
      "  super()._check_params_vs_input(X, default_n_init=10)\n",
      "C:\\ProgramData\\anaconda3\\Lib\\site-packages\\sklearn\\cluster\\_kmeans.py:1436: UserWarning: KMeans is known to have a memory leak on Windows with MKL, when there are less chunks than available threads. You can avoid it by setting the environment variable OMP_NUM_THREADS=1.\n",
      "  warnings.warn(\n",
      "C:\\ProgramData\\anaconda3\\Lib\\site-packages\\sklearn\\cluster\\_kmeans.py:1412: FutureWarning: The default value of `n_init` will change from 10 to 'auto' in 1.4. Set the value of `n_init` explicitly to suppress the warning\n",
      "  super()._check_params_vs_input(X, default_n_init=10)\n",
      "C:\\ProgramData\\anaconda3\\Lib\\site-packages\\sklearn\\cluster\\_kmeans.py:1436: UserWarning: KMeans is known to have a memory leak on Windows with MKL, when there are less chunks than available threads. You can avoid it by setting the environment variable OMP_NUM_THREADS=1.\n",
      "  warnings.warn(\n",
      "C:\\ProgramData\\anaconda3\\Lib\\site-packages\\sklearn\\cluster\\_kmeans.py:1412: FutureWarning: The default value of `n_init` will change from 10 to 'auto' in 1.4. Set the value of `n_init` explicitly to suppress the warning\n",
      "  super()._check_params_vs_input(X, default_n_init=10)\n",
      "C:\\ProgramData\\anaconda3\\Lib\\site-packages\\sklearn\\cluster\\_kmeans.py:1436: UserWarning: KMeans is known to have a memory leak on Windows with MKL, when there are less chunks than available threads. You can avoid it by setting the environment variable OMP_NUM_THREADS=1.\n",
      "  warnings.warn(\n",
      "C:\\ProgramData\\anaconda3\\Lib\\site-packages\\sklearn\\cluster\\_kmeans.py:1412: FutureWarning: The default value of `n_init` will change from 10 to 'auto' in 1.4. Set the value of `n_init` explicitly to suppress the warning\n",
      "  super()._check_params_vs_input(X, default_n_init=10)\n",
      "C:\\ProgramData\\anaconda3\\Lib\\site-packages\\sklearn\\cluster\\_kmeans.py:1436: UserWarning: KMeans is known to have a memory leak on Windows with MKL, when there are less chunks than available threads. You can avoid it by setting the environment variable OMP_NUM_THREADS=1.\n",
      "  warnings.warn(\n",
      "C:\\ProgramData\\anaconda3\\Lib\\site-packages\\sklearn\\cluster\\_kmeans.py:1412: FutureWarning: The default value of `n_init` will change from 10 to 'auto' in 1.4. Set the value of `n_init` explicitly to suppress the warning\n",
      "  super()._check_params_vs_input(X, default_n_init=10)\n",
      "C:\\ProgramData\\anaconda3\\Lib\\site-packages\\sklearn\\cluster\\_kmeans.py:1436: UserWarning: KMeans is known to have a memory leak on Windows with MKL, when there are less chunks than available threads. You can avoid it by setting the environment variable OMP_NUM_THREADS=1.\n",
      "  warnings.warn(\n",
      "C:\\ProgramData\\anaconda3\\Lib\\site-packages\\sklearn\\cluster\\_kmeans.py:1412: FutureWarning: The default value of `n_init` will change from 10 to 'auto' in 1.4. Set the value of `n_init` explicitly to suppress the warning\n",
      "  super()._check_params_vs_input(X, default_n_init=10)\n",
      "C:\\ProgramData\\anaconda3\\Lib\\site-packages\\sklearn\\cluster\\_kmeans.py:1436: UserWarning: KMeans is known to have a memory leak on Windows with MKL, when there are less chunks than available threads. You can avoid it by setting the environment variable OMP_NUM_THREADS=1.\n",
      "  warnings.warn(\n",
      "C:\\ProgramData\\anaconda3\\Lib\\site-packages\\sklearn\\cluster\\_kmeans.py:1412: FutureWarning: The default value of `n_init` will change from 10 to 'auto' in 1.4. Set the value of `n_init` explicitly to suppress the warning\n",
      "  super()._check_params_vs_input(X, default_n_init=10)\n",
      "C:\\ProgramData\\anaconda3\\Lib\\site-packages\\sklearn\\cluster\\_kmeans.py:1436: UserWarning: KMeans is known to have a memory leak on Windows with MKL, when there are less chunks than available threads. You can avoid it by setting the environment variable OMP_NUM_THREADS=1.\n",
      "  warnings.warn(\n",
      "C:\\ProgramData\\anaconda3\\Lib\\site-packages\\sklearn\\cluster\\_kmeans.py:1412: FutureWarning: The default value of `n_init` will change from 10 to 'auto' in 1.4. Set the value of `n_init` explicitly to suppress the warning\n",
      "  super()._check_params_vs_input(X, default_n_init=10)\n",
      "C:\\ProgramData\\anaconda3\\Lib\\site-packages\\sklearn\\cluster\\_kmeans.py:1436: UserWarning: KMeans is known to have a memory leak on Windows with MKL, when there are less chunks than available threads. You can avoid it by setting the environment variable OMP_NUM_THREADS=1.\n",
      "  warnings.warn(\n",
      "C:\\ProgramData\\anaconda3\\Lib\\site-packages\\sklearn\\cluster\\_kmeans.py:1412: FutureWarning: The default value of `n_init` will change from 10 to 'auto' in 1.4. Set the value of `n_init` explicitly to suppress the warning\n",
      "  super()._check_params_vs_input(X, default_n_init=10)\n",
      "C:\\ProgramData\\anaconda3\\Lib\\site-packages\\sklearn\\cluster\\_kmeans.py:1436: UserWarning: KMeans is known to have a memory leak on Windows with MKL, when there are less chunks than available threads. You can avoid it by setting the environment variable OMP_NUM_THREADS=1.\n",
      "  warnings.warn(\n"
     ]
    }
   ],
   "source": [
    "kvalue=range(2,12)\n",
    "sil=[]\n",
    "for k in kvalue:\n",
    "    km=KMeans(n_clusters=k)\n",
    "    labels=km.fit_predict(frame[['Fe content','Zn content']])\n",
    "    score=metrics.silhouette_score(frame[['Fe content','Zn content']],labels)\n",
    "    sil.append(score)"
   ]
  },
  {
   "cell_type": "code",
   "execution_count": 17,
   "metadata": {
    "colab": {
     "base_uri": "https://localhost:8080/",
     "height": 430
    },
    "id": "aTX-D6LvLRAI",
    "outputId": "57bf54e2-1410-43d8-ba9a-42899ce34fe7"
   },
   "outputs": [
    {
     "data": {
      "image/png": "[encoded data removed]",
      "text/plain": [
       "<Figure size 640x480 with 1 Axes>"
      ]
     },
     "metadata": {},
     "output_type": "display_data"
    }
   ],
   "source": [
    "\n",
    "plt.plot(kvalue,sil,marker='*')\n",
    "plt.show()"
   ]
  },
  {
   "cell_type": "code",
   "execution_count": 18,
   "metadata": {
    "colab": {
     "base_uri": "https://localhost:8080/"
    },
    "id": "hk6mvDMMLWfo",
    "outputId": "0e9938f8-e89d-479b-960a-0b380f2a3810"
   },
   "outputs": [
    {
     "name": "stderr",
     "output_type": "stream",
     "text": [
      "C:\\ProgramData\\anaconda3\\Lib\\site-packages\\sklearn\\cluster\\_kmeans.py:1412: FutureWarning: The default value of `n_init` will change from 10 to 'auto' in 1.4. Set the value of `n_init` explicitly to suppress the warning\n",
      "  super()._check_params_vs_input(X, default_n_init=10)\n",
      "C:\\ProgramData\\anaconda3\\Lib\\site-packages\\sklearn\\cluster\\_kmeans.py:1436: UserWarning: KMeans is known to have a memory leak on Windows with MKL, when there are less chunks than available threads. You can avoid it by setting the environment variable OMP_NUM_THREADS=1.\n",
      "  warnings.warn(\n"
     ]
    },
    {
     "data": {
      "text/plain": [
       "array([0, 0, 0, 0, 0, 0, 0, 0, 1, 1, 1, 1, 1, 1, 1])"
      ]
     },
     "execution_count": 18,
     "metadata": {},
     "output_type": "execute_result"
    }
   ],
   "source": [
    "km=KMeans(n_clusters=2)\n",
    "c=km.fit_predict(frame)\n",
    "c"
   ]
  },
  {
   "cell_type": "code",
   "execution_count": 19,
   "metadata": {
    "colab": {
     "base_uri": "https://localhost:8080/",
     "height": 206
    },
    "id": "ll3jjQNJLknQ",
    "outputId": "44023e34-b611-42ef-9fba-3c1014f13ae8"
   },
   "outputs": [
    {
     "data": {
      "text/html": [
       "<div>\n",
       "<style scoped>\n",
       "    .dataframe tbody tr th:only-of-type {\n",
       "        vertical-align: middle;\n",
       "    }\n",
       "\n",
       "    .dataframe tbody tr th {\n",
       "        vertical-align: top;\n",
       "    }\n",
       "\n",
       "    .dataframe thead th {\n",
       "        text-align: right;\n",
       "    }\n",
       "</style>\n",
       "<table border=\"1\" class=\"dataframe\">\n",
       "  <thead>\n",
       "    <tr style=\"text-align: right;\">\n",
       "      <th></th>\n",
       "      <th>Fe content</th>\n",
       "      <th>Zn content</th>\n",
       "      <th>cluster</th>\n",
       "    </tr>\n",
       "  </thead>\n",
       "  <tbody>\n",
       "    <tr>\n",
       "      <th>0</th>\n",
       "      <td>35.1</td>\n",
       "      <td>48.9</td>\n",
       "      <td>0</td>\n",
       "    </tr>\n",
       "    <tr>\n",
       "      <th>1</th>\n",
       "      <td>33.9</td>\n",
       "      <td>45.3</td>\n",
       "      <td>0</td>\n",
       "    </tr>\n",
       "    <tr>\n",
       "      <th>2</th>\n",
       "      <td>36.3</td>\n",
       "      <td>42.8</td>\n",
       "      <td>0</td>\n",
       "    </tr>\n",
       "    <tr>\n",
       "      <th>3</th>\n",
       "      <td>41.1</td>\n",
       "      <td>48.1</td>\n",
       "      <td>0</td>\n",
       "    </tr>\n",
       "    <tr>\n",
       "      <th>4</th>\n",
       "      <td>40.5</td>\n",
       "      <td>45.3</td>\n",
       "      <td>0</td>\n",
       "    </tr>\n",
       "  </tbody>\n",
       "</table>\n",
       "</div>"
      ],
      "text/plain": [
       "   Fe content  Zn content  cluster\n",
       "0        35.1        48.9        0\n",
       "1        33.9        45.3        0\n",
       "2        36.3        42.8        0\n",
       "3        41.1        48.1        0\n",
       "4        40.5        45.3        0"
      ]
     },
     "execution_count": 19,
     "metadata": {},
     "output_type": "execute_result"
    }
   ],
   "source": [
    "frame['cluster']=c\n",
    "frame.head()"
   ]
  },
  {
   "cell_type": "code",
   "execution_count": 20,
   "metadata": {
    "colab": {
     "base_uri": "https://localhost:8080/",
     "height": 391
    },
    "id": "0zkxkSiPLosG",
    "outputId": "d4073f5b-49fc-4399-b482-34ed0fe9e5cb"
   },
   "outputs": [
    {
     "data": {
      "image/png": "[encoded data removed]",
      "text/plain": [
       "<Figure size 400x400 with 1 Axes>"
      ]
     },
     "metadata": {},
     "output_type": "display_data"
    }
   ],
   "source": [
    "plt.figure(figsize=(4,4))\n",
    "df1 = frame[frame.cluster==0]\n",
    "df2 = frame[frame.cluster==1]\n",
    "plt.scatter(df1['Fe content'],df1['Zn content'],color='purple')\n",
    "plt.scatter(df2['Fe content'],df2['Zn content'],color='red')\n",
    "plt.xlabel('FE Content')\n",
    "plt.ylabel('ZN Content')\n",
    "plt.show()"
   ]
  },
  {
   "cell_type": "code",
   "execution_count": 21,
   "metadata": {
    "colab": {
     "base_uri": "https://localhost:8080/",
     "height": 1000
    },
    "id": "LDMrkD9Gp251",
    "outputId": "1f42ee94-4fa3-45fe-abd3-4baf0071d83d"
   },
   "outputs": [
    {
     "data": {
      "text/html": [
       "<div>\n",
       "<style scoped>\n",
       "    .dataframe tbody tr th:only-of-type {\n",
       "        vertical-align: middle;\n",
       "    }\n",
       "\n",
       "    .dataframe tbody tr th {\n",
       "        vertical-align: top;\n",
       "    }\n",
       "\n",
       "    .dataframe thead th {\n",
       "        text-align: right;\n",
       "    }\n",
       "</style>\n",
       "<table border=\"1\" class=\"dataframe\">\n",
       "  <thead>\n",
       "    <tr style=\"text-align: right;\">\n",
       "      <th></th>\n",
       "      <th>Region</th>\n",
       "      <th>Area</th>\n",
       "      <th>Timely sown</th>\n",
       "      <th>Seed</th>\n",
       "      <th>Grain appearance</th>\n",
       "      <th>Hectolitre weight</th>\n",
       "      <th>Protein content</th>\n",
       "      <th>Sedimentation value</th>\n",
       "      <th>Phenol test</th>\n",
       "      <th>Fe content</th>\n",
       "      <th>Zn content</th>\n",
       "      <th>cluster</th>\n",
       "    </tr>\n",
       "  </thead>\n",
       "  <tbody>\n",
       "    <tr>\n",
       "      <th>0</th>\n",
       "      <td>Northern Hills Zone (NHZ)</td>\n",
       "      <td>Almora</td>\n",
       "      <td>Irrigated Timely Sown</td>\n",
       "      <td>HPW349 (C)</td>\n",
       "      <td>5.4</td>\n",
       "      <td>80.0</td>\n",
       "      <td>10.8</td>\n",
       "      <td>55.7</td>\n",
       "      <td>8.5</td>\n",
       "      <td>35.1</td>\n",
       "      <td>48.9</td>\n",
       "      <td>0</td>\n",
       "    </tr>\n",
       "    <tr>\n",
       "      <th>1</th>\n",
       "      <td>Northern Hills Zone (NHZ)</td>\n",
       "      <td>Almora</td>\n",
       "      <td>Irrigated Timely Sown</td>\n",
       "      <td>VL907 (C)</td>\n",
       "      <td>5.4</td>\n",
       "      <td>80.2</td>\n",
       "      <td>11.7</td>\n",
       "      <td>44.2</td>\n",
       "      <td>8.5</td>\n",
       "      <td>33.9</td>\n",
       "      <td>45.3</td>\n",
       "      <td>0</td>\n",
       "    </tr>\n",
       "    <tr>\n",
       "      <th>2</th>\n",
       "      <td>Northern Hills Zone (NHZ)</td>\n",
       "      <td>Almora</td>\n",
       "      <td>Irrigated Timely Sown</td>\n",
       "      <td>HS507 (C)</td>\n",
       "      <td>5.6</td>\n",
       "      <td>80.1</td>\n",
       "      <td>11.1</td>\n",
       "      <td>45.7</td>\n",
       "      <td>7.5</td>\n",
       "      <td>36.3</td>\n",
       "      <td>42.8</td>\n",
       "      <td>0</td>\n",
       "    </tr>\n",
       "    <tr>\n",
       "      <th>3</th>\n",
       "      <td>Northern Hills Zone (NHZ)</td>\n",
       "      <td>Almora</td>\n",
       "      <td>Irrigated Timely Sown</td>\n",
       "      <td>HS562 (C)</td>\n",
       "      <td>5.2</td>\n",
       "      <td>79.9</td>\n",
       "      <td>10.1</td>\n",
       "      <td>53.8</td>\n",
       "      <td>7.5</td>\n",
       "      <td>41.1</td>\n",
       "      <td>48.1</td>\n",
       "      <td>0</td>\n",
       "    </tr>\n",
       "    <tr>\n",
       "      <th>4</th>\n",
       "      <td>Northern Hills Zone (NHZ)</td>\n",
       "      <td>Almora</td>\n",
       "      <td>Irrigated Timely Sown</td>\n",
       "      <td>VL2041</td>\n",
       "      <td>5.6</td>\n",
       "      <td>80.7</td>\n",
       "      <td>9.8</td>\n",
       "      <td>46.5</td>\n",
       "      <td>2.5</td>\n",
       "      <td>40.5</td>\n",
       "      <td>45.3</td>\n",
       "      <td>0</td>\n",
       "    </tr>\n",
       "    <tr>\n",
       "      <th>5</th>\n",
       "      <td>Northern Hills Zone (NHZ)</td>\n",
       "      <td>Shimla</td>\n",
       "      <td>Irrigated Timely Sown</td>\n",
       "      <td>HPW349 (C)</td>\n",
       "      <td>5.4</td>\n",
       "      <td>80.6</td>\n",
       "      <td>10.8</td>\n",
       "      <td>46.5</td>\n",
       "      <td>7.5</td>\n",
       "      <td>39.0</td>\n",
       "      <td>38.5</td>\n",
       "      <td>0</td>\n",
       "    </tr>\n",
       "    <tr>\n",
       "      <th>6</th>\n",
       "      <td>Northern Hills Zone (NHZ)</td>\n",
       "      <td>Shimla</td>\n",
       "      <td>Irrigated Timely Sown</td>\n",
       "      <td>VL907 (C)</td>\n",
       "      <td>5.8</td>\n",
       "      <td>79.2</td>\n",
       "      <td>10.9</td>\n",
       "      <td>36.9</td>\n",
       "      <td>7.0</td>\n",
       "      <td>39.4</td>\n",
       "      <td>36.9</td>\n",
       "      <td>0</td>\n",
       "    </tr>\n",
       "    <tr>\n",
       "      <th>7</th>\n",
       "      <td>Northern Hills Zone (NHZ)</td>\n",
       "      <td>Shimla</td>\n",
       "      <td>Irrigated Timely Sown</td>\n",
       "      <td>HS507 (C)</td>\n",
       "      <td>5.6</td>\n",
       "      <td>79.9</td>\n",
       "      <td>11.3</td>\n",
       "      <td>41.9</td>\n",
       "      <td>7.0</td>\n",
       "      <td>41.8</td>\n",
       "      <td>43.8</td>\n",
       "      <td>0</td>\n",
       "    </tr>\n",
       "    <tr>\n",
       "      <th>8</th>\n",
       "      <td>Northern Hills Zone (NHZ)</td>\n",
       "      <td>Shimla</td>\n",
       "      <td>Irrigated Timely Sown</td>\n",
       "      <td>HS562 (C)</td>\n",
       "      <td>5.6</td>\n",
       "      <td>80.2</td>\n",
       "      <td>10.5</td>\n",
       "      <td>49.6</td>\n",
       "      <td>7.5</td>\n",
       "      <td>35.8</td>\n",
       "      <td>30.1</td>\n",
       "      <td>1</td>\n",
       "    </tr>\n",
       "    <tr>\n",
       "      <th>9</th>\n",
       "      <td>Northern Hills Zone (NHZ)</td>\n",
       "      <td>Shimla</td>\n",
       "      <td>Irrigated Timely Sown</td>\n",
       "      <td>VL2041</td>\n",
       "      <td>5.4</td>\n",
       "      <td>79.6</td>\n",
       "      <td>9.9</td>\n",
       "      <td>40.7</td>\n",
       "      <td>4.0</td>\n",
       "      <td>37.1</td>\n",
       "      <td>30.9</td>\n",
       "      <td>1</td>\n",
       "    </tr>\n",
       "    <tr>\n",
       "      <th>10</th>\n",
       "      <td>Northern Hills Zone (NHZ)</td>\n",
       "      <td>Malan</td>\n",
       "      <td>Irrigated Timely Sown</td>\n",
       "      <td>HPW349 (C)</td>\n",
       "      <td>6.0</td>\n",
       "      <td>79.7</td>\n",
       "      <td>10.7</td>\n",
       "      <td>65.4</td>\n",
       "      <td>8.0</td>\n",
       "      <td>36.1</td>\n",
       "      <td>22.2</td>\n",
       "      <td>1</td>\n",
       "    </tr>\n",
       "    <tr>\n",
       "      <th>11</th>\n",
       "      <td>Northern Hills Zone (NHZ)</td>\n",
       "      <td>Malan</td>\n",
       "      <td>Irrigated Timely Sown</td>\n",
       "      <td>VL907 (C)</td>\n",
       "      <td>6.0</td>\n",
       "      <td>78.5</td>\n",
       "      <td>11.6</td>\n",
       "      <td>44.2</td>\n",
       "      <td>8.0</td>\n",
       "      <td>35.3</td>\n",
       "      <td>26.6</td>\n",
       "      <td>1</td>\n",
       "    </tr>\n",
       "    <tr>\n",
       "      <th>12</th>\n",
       "      <td>Northern Hills Zone (NHZ)</td>\n",
       "      <td>Malan</td>\n",
       "      <td>Irrigated Timely Sown</td>\n",
       "      <td>HS507 (C)</td>\n",
       "      <td>6.8</td>\n",
       "      <td>81.2</td>\n",
       "      <td>10.4</td>\n",
       "      <td>46.1</td>\n",
       "      <td>7.0</td>\n",
       "      <td>36.2</td>\n",
       "      <td>27.9</td>\n",
       "      <td>1</td>\n",
       "    </tr>\n",
       "    <tr>\n",
       "      <th>13</th>\n",
       "      <td>Northern Hills Zone (NHZ)</td>\n",
       "      <td>Malan</td>\n",
       "      <td>Irrigated Timely Sown</td>\n",
       "      <td>HS562 (C)</td>\n",
       "      <td>6.0</td>\n",
       "      <td>79.4</td>\n",
       "      <td>14.3</td>\n",
       "      <td>51.9</td>\n",
       "      <td>8.0</td>\n",
       "      <td>43.6</td>\n",
       "      <td>24.0</td>\n",
       "      <td>1</td>\n",
       "    </tr>\n",
       "    <tr>\n",
       "      <th>14</th>\n",
       "      <td>Northern Hills Zone (NHZ)</td>\n",
       "      <td>Malan</td>\n",
       "      <td>Irrigated Timely Sown</td>\n",
       "      <td>VL2041</td>\n",
       "      <td>5.6</td>\n",
       "      <td>78.4</td>\n",
       "      <td>10.4</td>\n",
       "      <td>57.3</td>\n",
       "      <td>4.5</td>\n",
       "      <td>33.6</td>\n",
       "      <td>22.4</td>\n",
       "      <td>1</td>\n",
       "    </tr>\n",
       "  </tbody>\n",
       "</table>\n",
       "</div>"
      ],
      "text/plain": [
       "                       Region    Area            Timely sown        Seed  \\\n",
       "0   Northern Hills Zone (NHZ)  Almora  Irrigated Timely Sown  HPW349 (C)   \n",
       "1   Northern Hills Zone (NHZ)  Almora  Irrigated Timely Sown   VL907 (C)   \n",
       "2   Northern Hills Zone (NHZ)  Almora  Irrigated Timely Sown   HS507 (C)   \n",
       "3   Northern Hills Zone (NHZ)  Almora  Irrigated Timely Sown   HS562 (C)   \n",
       "4   Northern Hills Zone (NHZ)  Almora  Irrigated Timely Sown      VL2041   \n",
       "5   Northern Hills Zone (NHZ)  Shimla  Irrigated Timely Sown  HPW349 (C)   \n",
       "6   Northern Hills Zone (NHZ)  Shimla  Irrigated Timely Sown   VL907 (C)   \n",
       "7   Northern Hills Zone (NHZ)  Shimla  Irrigated Timely Sown   HS507 (C)   \n",
       "8   Northern Hills Zone (NHZ)  Shimla  Irrigated Timely Sown   HS562 (C)   \n",
       "9   Northern Hills Zone (NHZ)  Shimla  Irrigated Timely Sown      VL2041   \n",
       "10  Northern Hills Zone (NHZ)   Malan  Irrigated Timely Sown  HPW349 (C)   \n",
       "11  Northern Hills Zone (NHZ)   Malan  Irrigated Timely Sown   VL907 (C)   \n",
       "12  Northern Hills Zone (NHZ)   Malan  Irrigated Timely Sown   HS507 (C)   \n",
       "13  Northern Hills Zone (NHZ)   Malan  Irrigated Timely Sown   HS562 (C)   \n",
       "14  Northern Hills Zone (NHZ)   Malan  Irrigated Timely Sown      VL2041   \n",
       "\n",
       "    Grain appearance  Hectolitre weight  Protein content  Sedimentation value  \\\n",
       "0                5.4               80.0             10.8                 55.7   \n",
       "1                5.4               80.2             11.7                 44.2   \n",
       "2                5.6               80.1             11.1                 45.7   \n",
       "3                5.2               79.9             10.1                 53.8   \n",
       "4                5.6               80.7              9.8                 46.5   \n",
       "5                5.4               80.6             10.8                 46.5   \n",
       "6                5.8               79.2             10.9                 36.9   \n",
       "7                5.6               79.9             11.3                 41.9   \n",
       "8                5.6               80.2             10.5                 49.6   \n",
       "9                5.4               79.6              9.9                 40.7   \n",
       "10               6.0               79.7             10.7                 65.4   \n",
       "11               6.0               78.5             11.6                 44.2   \n",
       "12               6.8               81.2             10.4                 46.1   \n",
       "13               6.0               79.4             14.3                 51.9   \n",
       "14               5.6               78.4             10.4                 57.3   \n",
       "\n",
       "    Phenol test  Fe content  Zn content  cluster  \n",
       "0           8.5        35.1        48.9        0  \n",
       "1           8.5        33.9        45.3        0  \n",
       "2           7.5        36.3        42.8        0  \n",
       "3           7.5        41.1        48.1        0  \n",
       "4           2.5        40.5        45.3        0  \n",
       "5           7.5        39.0        38.5        0  \n",
       "6           7.0        39.4        36.9        0  \n",
       "7           7.0        41.8        43.8        0  \n",
       "8           7.5        35.8        30.1        1  \n",
       "9           4.0        37.1        30.9        1  \n",
       "10          8.0        36.1        22.2        1  \n",
       "11          8.0        35.3        26.6        1  \n",
       "12          7.0        36.2        27.9        1  \n",
       "13          8.0        43.6        24.0        1  \n",
       "14          4.5        33.6        22.4        1  "
      ]
     },
     "execution_count": 21,
     "metadata": {},
     "output_type": "execute_result"
    }
   ],
   "source": [
    "df['cluster']=c\n",
    "df.head(95)"
   ]
  },
  {
   "cell_type": "code",
   "execution_count": 22,
   "metadata": {
    "colab": {
     "base_uri": "https://localhost:8080/"
    },
    "id": "RROdm9zKquNw",
    "outputId": "38ec2dd1-7f3e-4ce6-ab99-c8dc3a69677b"
   },
   "outputs": [
    {
     "data": {
      "text/plain": [
       "Fe content    38.3875\n",
       "Zn content    43.7000\n",
       "cluster        0.0000\n",
       "dtype: float64"
      ]
     },
     "execution_count": 22,
     "metadata": {},
     "output_type": "execute_result"
    }
   ],
   "source": [
    "df1.mean()"
   ]
  },
  {
   "cell_type": "code",
   "execution_count": 23,
   "metadata": {
    "colab": {
     "base_uri": "https://localhost:8080/"
    },
    "id": "xQ3tRXw-q9vA",
    "outputId": "dd5948f3-e24e-4c66-eca6-e4e66c562681"
   },
   "outputs": [
    {
     "data": {
      "text/plain": [
       "Fe content    36.814286\n",
       "Zn content    26.300000\n",
       "cluster        1.000000\n",
       "dtype: float64"
      ]
     },
     "execution_count": 23,
     "metadata": {},
     "output_type": "execute_result"
    }
   ],
   "source": [
    "df2.mean()"
   ]
  },
  {
   "cell_type": "code",
   "execution_count": 24,
   "metadata": {
    "id": "yrx0hVgsrKEc"
   },
   "outputs": [],
   "source": [
    "df.to_csv('NHZ_irrigation.csv')"
   ]
  },
  {
   "cell_type": "code",
   "execution_count": 25,
   "metadata": {},
   "outputs": [
    {
     "data": {
      "text/plain": [
       "2.74246125770265"
      ]
     },
     "execution_count": 25,
     "metadata": {},
     "output_type": "execute_result"
    }
   ],
   "source": [
    "import numpy as np\n",
    "# Calculate the standard deviation\n",
    "standard_deviation = np.std(df1['Fe content'])\n",
    "\n",
    "standard_deviation\n"
   ]
  },
  {
   "cell_type": "code",
   "execution_count": 26,
   "metadata": {},
   "outputs": [
    {
     "data": {
      "text/plain": [
       "3.962638010214912"
      ]
     },
     "execution_count": 26,
     "metadata": {},
     "output_type": "execute_result"
    }
   ],
   "source": [
    "import numpy as np\n",
    "# Calculate the standard deviation\n",
    "standard_deviation = np.std(df1['Zn content'])\n",
    "\n",
    "standard_deviation\n"
   ]
  },
  {
   "cell_type": "code",
   "execution_count": 27,
   "metadata": {},
   "outputs": [
    {
     "data": {
      "text/plain": [
       "2.9439665038023457"
      ]
     },
     "execution_count": 27,
     "metadata": {},
     "output_type": "execute_result"
    }
   ],
   "source": [
    "import numpy as np\n",
    "# Calculate the standard deviation\n",
    "standard_deviation = np.std(df2['Fe content'])\n",
    "\n",
    "standard_deviation\n"
   ]
  },
  {
   "cell_type": "code",
   "execution_count": 28,
   "metadata": {},
   "outputs": [
    {
     "data": {
      "text/plain": [
       "3.2854658291155174"
      ]
     },
     "execution_count": 28,
     "metadata": {},
     "output_type": "execute_result"
    }
   ],
   "source": [
    "import numpy as np\n",
    "# Calculate the standard deviation\n",
    "standard_deviation = np.std(df2['Zn content'])\n",
    "\n",
    "standard_deviation\n"
   ]
  }
 ],
 "metadata": {
  "colab": {
   "provenance": []
  },
  "kernelspec": {
   "display_name": "Python 3 (ipykernel)",
   "language": "python",
   "name": "python3"
  },
  "language_info": {
   "codemirror_mode": {
    "name": "ipython",
    "version": 3
   },
   "file_extension": ".py",
   "mimetype": "text/x-python",
   "name": "python",
   "nbconvert_exporter": "python",
   "pygments_lexer": "ipython3",
   "version": "3.11.4"
  }
 },
 "nbformat": 4,
 "nbformat_minor": 1
}
