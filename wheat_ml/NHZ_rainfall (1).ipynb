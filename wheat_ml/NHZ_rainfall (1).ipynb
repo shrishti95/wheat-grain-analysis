{
 "cells": [
  {
   "cell_type": "code",
   "execution_count": 5,
   "metadata": {
    "id": "3dRd2hH_HEyH"
   },
   "outputs": [],
   "source": [
    "import numpy as np\n",
    "import pandas as pd\n",
    "import matplotlib.pyplot as plt"
   ]
  },
  {
   "cell_type": "code",
   "execution_count": 6,
   "metadata": {
    "id": "foALdm-GHR8k"
   },
   "outputs": [],
   "source": [
    "df=pd.read_excel('NHZ_raifall.xlsx')"
   ]
  },
  {
   "cell_type": "code",
   "execution_count": 7,
   "metadata": {
    "colab": {
     "base_uri": "https://localhost:8080/",
     "height": 310
    },
    "id": "Ek5vF150Hby9",
    "outputId": "d0e7724a-f7a3-429b-8799-cf0080c37532"
   },
   "outputs": [
    {
     "data": {
      "text/html": [
       "<div>\n",
       "<style scoped>\n",
       "    .dataframe tbody tr th:only-of-type {\n",
       "        vertical-align: middle;\n",
       "    }\n",
       "\n",
       "    .dataframe tbody tr th {\n",
       "        vertical-align: top;\n",
       "    }\n",
       "\n",
       "    .dataframe thead th {\n",
       "        text-align: right;\n",
       "    }\n",
       "</style>\n",
       "<table border=\"1\" class=\"dataframe\">\n",
       "  <thead>\n",
       "    <tr style=\"text-align: right;\">\n",
       "      <th></th>\n",
       "      <th>Region</th>\n",
       "      <th>Area</th>\n",
       "      <th>Timely sown</th>\n",
       "      <th>Seed</th>\n",
       "      <th>Grain appearance</th>\n",
       "      <th>Hectolitre weight</th>\n",
       "      <th>Protein content</th>\n",
       "      <th>Sedimentation value</th>\n",
       "      <th>Phenol test</th>\n",
       "      <th>Fe content</th>\n",
       "      <th>Zn content</th>\n",
       "    </tr>\n",
       "  </thead>\n",
       "  <tbody>\n",
       "    <tr>\n",
       "      <th>0</th>\n",
       "      <td>Northern Hills Zone (NHZ)</td>\n",
       "      <td>Almora</td>\n",
       "      <td>Rainfed Timely Sown</td>\n",
       "      <td>HS562 (C)</td>\n",
       "      <td>5.0</td>\n",
       "      <td>74.6</td>\n",
       "      <td>14.2</td>\n",
       "      <td>68.8</td>\n",
       "      <td>8.5</td>\n",
       "      <td>40.2</td>\n",
       "      <td>36.2</td>\n",
       "    </tr>\n",
       "    <tr>\n",
       "      <th>1</th>\n",
       "      <td>Northern Hills Zone (NHZ)</td>\n",
       "      <td>Almora</td>\n",
       "      <td>Rainfed Timely Sown</td>\n",
       "      <td>HPW349 (C)</td>\n",
       "      <td>4.8</td>\n",
       "      <td>76.0</td>\n",
       "      <td>14.5</td>\n",
       "      <td>70.0</td>\n",
       "      <td>8.0</td>\n",
       "      <td>42.9</td>\n",
       "      <td>50.2</td>\n",
       "    </tr>\n",
       "    <tr>\n",
       "      <th>2</th>\n",
       "      <td>Northern Hills Zone (NHZ)</td>\n",
       "      <td>Almora</td>\n",
       "      <td>Rainfed Timely Sown</td>\n",
       "      <td>HS507 (C)</td>\n",
       "      <td>5.0</td>\n",
       "      <td>76.6</td>\n",
       "      <td>13.6</td>\n",
       "      <td>55.4</td>\n",
       "      <td>7.0</td>\n",
       "      <td>38.6</td>\n",
       "      <td>47.9</td>\n",
       "    </tr>\n",
       "    <tr>\n",
       "      <th>3</th>\n",
       "      <td>Northern Hills Zone (NHZ)</td>\n",
       "      <td>Almora</td>\n",
       "      <td>Rainfed Timely Sown</td>\n",
       "      <td>VL907 (C)</td>\n",
       "      <td>5.0</td>\n",
       "      <td>74.8</td>\n",
       "      <td>14.3</td>\n",
       "      <td>49.6</td>\n",
       "      <td>8.0</td>\n",
       "      <td>41.3</td>\n",
       "      <td>50.1</td>\n",
       "    </tr>\n",
       "    <tr>\n",
       "      <th>4</th>\n",
       "      <td>Northern Hills Zone (NHZ)</td>\n",
       "      <td>Almora</td>\n",
       "      <td>Rainfed Timely Sown</td>\n",
       "      <td>VL2041</td>\n",
       "      <td>4.6</td>\n",
       "      <td>72.7</td>\n",
       "      <td>14.1</td>\n",
       "      <td>69.2</td>\n",
       "      <td>3.0</td>\n",
       "      <td>35.9</td>\n",
       "      <td>40.1</td>\n",
       "    </tr>\n",
       "  </tbody>\n",
       "</table>\n",
       "</div>"
      ],
      "text/plain": [
       "                      Region    Area          Timely sown        Seed  \\\n",
       "0  Northern Hills Zone (NHZ)  Almora  Rainfed Timely Sown   HS562 (C)   \n",
       "1  Northern Hills Zone (NHZ)  Almora  Rainfed Timely Sown  HPW349 (C)   \n",
       "2  Northern Hills Zone (NHZ)  Almora  Rainfed Timely Sown   HS507 (C)   \n",
       "3  Northern Hills Zone (NHZ)  Almora  Rainfed Timely Sown   VL907 (C)   \n",
       "4  Northern Hills Zone (NHZ)  Almora  Rainfed Timely Sown      VL2041   \n",
       "\n",
       "   Grain appearance  Hectolitre weight  Protein content  Sedimentation value  \\\n",
       "0               5.0               74.6             14.2                 68.8   \n",
       "1               4.8               76.0             14.5                 70.0   \n",
       "2               5.0               76.6             13.6                 55.4   \n",
       "3               5.0               74.8             14.3                 49.6   \n",
       "4               4.6               72.7             14.1                 69.2   \n",
       "\n",
       "   Phenol test  Fe content  Zn content  \n",
       "0          8.5        40.2        36.2  \n",
       "1          8.0        42.9        50.2  \n",
       "2          7.0        38.6        47.9  \n",
       "3          8.0        41.3        50.1  \n",
       "4          3.0        35.9        40.1  "
      ]
     },
     "execution_count": 7,
     "metadata": {},
     "output_type": "execute_result"
    }
   ],
   "source": [
    "df.head()"
   ]
  },
  {
   "cell_type": "code",
   "execution_count": 8,
   "metadata": {
    "colab": {
     "base_uri": "https://localhost:8080/"
    },
    "id": "SnTk98cdHgIL",
    "outputId": "8aed9ee8-6cf8-4df7-c88e-77cc8d86101e"
   },
   "outputs": [
    {
     "data": {
      "text/plain": [
       "(15, 11)"
      ]
     },
     "execution_count": 8,
     "metadata": {},
     "output_type": "execute_result"
    }
   ],
   "source": [
    "df.shape"
   ]
  },
  {
   "cell_type": "code",
   "execution_count": 9,
   "metadata": {
    "colab": {
     "base_uri": "https://localhost:8080/"
    },
    "id": "A_gB31WJHlzu",
    "outputId": "2344acb0-a9c7-4203-d344-3d9de390d692"
   },
   "outputs": [
    {
     "data": {
      "text/plain": [
       "Region                 0\n",
       "Area                   0\n",
       "Timely sown            0\n",
       "Seed                   0\n",
       "Grain appearance       0\n",
       "Hectolitre weight      0\n",
       "Protein content        0\n",
       "Sedimentation value    0\n",
       "Phenol test            0\n",
       "Fe content             0\n",
       "Zn content             0\n",
       "dtype: int64"
      ]
     },
     "execution_count": 9,
     "metadata": {},
     "output_type": "execute_result"
    }
   ],
   "source": [
    "df.isnull().sum()"
   ]
  },
  {
   "cell_type": "code",
   "execution_count": 10,
   "metadata": {
    "colab": {
     "base_uri": "https://localhost:8080/",
     "height": 519
    },
    "id": "zUd_urbVHt4P",
    "outputId": "e7ed8886-f305-4ce7-97f7-331d181321d4"
   },
   "outputs": [
    {
     "data": {
      "text/html": [
       "<div>\n",
       "<style scoped>\n",
       "    .dataframe tbody tr th:only-of-type {\n",
       "        vertical-align: middle;\n",
       "    }\n",
       "\n",
       "    .dataframe tbody tr th {\n",
       "        vertical-align: top;\n",
       "    }\n",
       "\n",
       "    .dataframe thead th {\n",
       "        text-align: right;\n",
       "    }\n",
       "</style>\n",
       "<table border=\"1\" class=\"dataframe\">\n",
       "  <thead>\n",
       "    <tr style=\"text-align: right;\">\n",
       "      <th></th>\n",
       "      <th>Fe content</th>\n",
       "      <th>Zn content</th>\n",
       "    </tr>\n",
       "  </thead>\n",
       "  <tbody>\n",
       "    <tr>\n",
       "      <th>0</th>\n",
       "      <td>40.2</td>\n",
       "      <td>36.2</td>\n",
       "    </tr>\n",
       "    <tr>\n",
       "      <th>1</th>\n",
       "      <td>42.9</td>\n",
       "      <td>50.2</td>\n",
       "    </tr>\n",
       "    <tr>\n",
       "      <th>2</th>\n",
       "      <td>38.6</td>\n",
       "      <td>47.9</td>\n",
       "    </tr>\n",
       "    <tr>\n",
       "      <th>3</th>\n",
       "      <td>41.3</td>\n",
       "      <td>50.1</td>\n",
       "    </tr>\n",
       "    <tr>\n",
       "      <th>4</th>\n",
       "      <td>35.9</td>\n",
       "      <td>40.1</td>\n",
       "    </tr>\n",
       "    <tr>\n",
       "      <th>5</th>\n",
       "      <td>43.5</td>\n",
       "      <td>29.2</td>\n",
       "    </tr>\n",
       "    <tr>\n",
       "      <th>6</th>\n",
       "      <td>42.3</td>\n",
       "      <td>34.2</td>\n",
       "    </tr>\n",
       "    <tr>\n",
       "      <th>7</th>\n",
       "      <td>39.2</td>\n",
       "      <td>32.8</td>\n",
       "    </tr>\n",
       "    <tr>\n",
       "      <th>8</th>\n",
       "      <td>40.8</td>\n",
       "      <td>34.9</td>\n",
       "    </tr>\n",
       "    <tr>\n",
       "      <th>9</th>\n",
       "      <td>41.4</td>\n",
       "      <td>36.0</td>\n",
       "    </tr>\n",
       "    <tr>\n",
       "      <th>10</th>\n",
       "      <td>39.6</td>\n",
       "      <td>31.8</td>\n",
       "    </tr>\n",
       "    <tr>\n",
       "      <th>11</th>\n",
       "      <td>39.4</td>\n",
       "      <td>25.5</td>\n",
       "    </tr>\n",
       "    <tr>\n",
       "      <th>12</th>\n",
       "      <td>40.6</td>\n",
       "      <td>35.1</td>\n",
       "    </tr>\n",
       "    <tr>\n",
       "      <th>13</th>\n",
       "      <td>36.1</td>\n",
       "      <td>33.3</td>\n",
       "    </tr>\n",
       "    <tr>\n",
       "      <th>14</th>\n",
       "      <td>35.4</td>\n",
       "      <td>27.8</td>\n",
       "    </tr>\n",
       "  </tbody>\n",
       "</table>\n",
       "</div>"
      ],
      "text/plain": [
       "    Fe content  Zn content\n",
       "0         40.2        36.2\n",
       "1         42.9        50.2\n",
       "2         38.6        47.9\n",
       "3         41.3        50.1\n",
       "4         35.9        40.1\n",
       "5         43.5        29.2\n",
       "6         42.3        34.2\n",
       "7         39.2        32.8\n",
       "8         40.8        34.9\n",
       "9         41.4        36.0\n",
       "10        39.6        31.8\n",
       "11        39.4        25.5\n",
       "12        40.6        35.1\n",
       "13        36.1        33.3\n",
       "14        35.4        27.8"
      ]
     },
     "execution_count": 10,
     "metadata": {},
     "output_type": "execute_result"
    }
   ],
   "source": [
    "df.iloc[:,9:]"
   ]
  },
  {
   "cell_type": "code",
   "execution_count": 11,
   "metadata": {
    "id": "Lp_4eeDiJhyF"
   },
   "outputs": [],
   "source": [
    "frame=pd.DataFrame(df.iloc[:,9:])"
   ]
  },
  {
   "cell_type": "code",
   "execution_count": 12,
   "metadata": {
    "colab": {
     "base_uri": "https://localhost:8080/",
     "height": 206
    },
    "id": "JT2bJx-_Jkzx",
    "outputId": "2c7d65b7-0f1f-4a5a-c8cf-ab5234eabc97"
   },
   "outputs": [
    {
     "data": {
      "text/html": [
       "<div>\n",
       "<style scoped>\n",
       "    .dataframe tbody tr th:only-of-type {\n",
       "        vertical-align: middle;\n",
       "    }\n",
       "\n",
       "    .dataframe tbody tr th {\n",
       "        vertical-align: top;\n",
       "    }\n",
       "\n",
       "    .dataframe thead th {\n",
       "        text-align: right;\n",
       "    }\n",
       "</style>\n",
       "<table border=\"1\" class=\"dataframe\">\n",
       "  <thead>\n",
       "    <tr style=\"text-align: right;\">\n",
       "      <th></th>\n",
       "      <th>Fe content</th>\n",
       "      <th>Zn content</th>\n",
       "    </tr>\n",
       "  </thead>\n",
       "  <tbody>\n",
       "    <tr>\n",
       "      <th>0</th>\n",
       "      <td>40.2</td>\n",
       "      <td>36.2</td>\n",
       "    </tr>\n",
       "    <tr>\n",
       "      <th>1</th>\n",
       "      <td>42.9</td>\n",
       "      <td>50.2</td>\n",
       "    </tr>\n",
       "    <tr>\n",
       "      <th>2</th>\n",
       "      <td>38.6</td>\n",
       "      <td>47.9</td>\n",
       "    </tr>\n",
       "    <tr>\n",
       "      <th>3</th>\n",
       "      <td>41.3</td>\n",
       "      <td>50.1</td>\n",
       "    </tr>\n",
       "    <tr>\n",
       "      <th>4</th>\n",
       "      <td>35.9</td>\n",
       "      <td>40.1</td>\n",
       "    </tr>\n",
       "  </tbody>\n",
       "</table>\n",
       "</div>"
      ],
      "text/plain": [
       "   Fe content  Zn content\n",
       "0        40.2        36.2\n",
       "1        42.9        50.2\n",
       "2        38.6        47.9\n",
       "3        41.3        50.1\n",
       "4        35.9        40.1"
      ]
     },
     "execution_count": 12,
     "metadata": {},
     "output_type": "execute_result"
    }
   ],
   "source": [
    "frame.head()"
   ]
  },
  {
   "cell_type": "code",
   "execution_count": 13,
   "metadata": {
    "colab": {
     "base_uri": "https://localhost:8080/",
     "height": 430
    },
    "id": "jpn4jfQxJpo6",
    "outputId": "ba3744db-3321-4685-d523-2f2d28f89d5f"
   },
   "outputs": [
    {
     "data": {
      "image/png": "[encoded data removed]",
      "text/plain": [
       "<Figure size 640x480 with 1 Axes>"
      ]
     },
     "metadata": {},
     "output_type": "display_data"
    }
   ],
   "source": [
    "plt.scatter(frame['Fe content'],frame['Zn content'])\n",
    "plt.show()"
   ]
  },
  {
   "cell_type": "code",
   "execution_count": 14,
   "metadata": {
    "id": "Nfk_lwG_Jtxr"
   },
   "outputs": [],
   "source": [
    "from sklearn.cluster import KMeans"
   ]
  },
  {
   "cell_type": "code",
   "execution_count": 15,
   "metadata": {
    "colab": {
     "base_uri": "https://localhost:8080/"
    },
    "id": "cTHzrRcCKKrK",
    "outputId": "d63140d0-6a59-4e93-9165-9534a38827b4"
   },
   "outputs": [
    {
     "name": "stderr",
     "output_type": "stream",
     "text": [
      "C:\\ProgramData\\anaconda3\\Lib\\site-packages\\sklearn\\cluster\\_kmeans.py:1412: FutureWarning: The default value of `n_init` will change from 10 to 'auto' in 1.4. Set the value of `n_init` explicitly to suppress the warning\n",
      "  super()._check_params_vs_input(X, default_n_init=10)\n",
      "C:\\ProgramData\\anaconda3\\Lib\\site-packages\\sklearn\\cluster\\_kmeans.py:1436: UserWarning: KMeans is known to have a memory leak on Windows with MKL, when there are less chunks than available threads. You can avoid it by setting the environment variable OMP_NUM_THREADS=1.\n",
      "  warnings.warn(\n",
      "C:\\ProgramData\\anaconda3\\Lib\\site-packages\\sklearn\\cluster\\_kmeans.py:1412: FutureWarning: The default value of `n_init` will change from 10 to 'auto' in 1.4. Set the value of `n_init` explicitly to suppress the warning\n",
      "  super()._check_params_vs_input(X, default_n_init=10)\n",
      "C:\\ProgramData\\anaconda3\\Lib\\site-packages\\sklearn\\cluster\\_kmeans.py:1436: UserWarning: KMeans is known to have a memory leak on Windows with MKL, when there are less chunks than available threads. You can avoid it by setting the environment variable OMP_NUM_THREADS=1.\n",
      "  warnings.warn(\n",
      "C:\\ProgramData\\anaconda3\\Lib\\site-packages\\sklearn\\cluster\\_kmeans.py:1412: FutureWarning: The default value of `n_init` will change from 10 to 'auto' in 1.4. Set the value of `n_init` explicitly to suppress the warning\n",
      "  super()._check_params_vs_input(X, default_n_init=10)\n",
      "C:\\ProgramData\\anaconda3\\Lib\\site-packages\\sklearn\\cluster\\_kmeans.py:1436: UserWarning: KMeans is known to have a memory leak on Windows with MKL, when there are less chunks than available threads. You can avoid it by setting the environment variable OMP_NUM_THREADS=1.\n",
      "  warnings.warn(\n",
      "C:\\ProgramData\\anaconda3\\Lib\\site-packages\\sklearn\\cluster\\_kmeans.py:1412: FutureWarning: The default value of `n_init` will change from 10 to 'auto' in 1.4. Set the value of `n_init` explicitly to suppress the warning\n",
      "  super()._check_params_vs_input(X, default_n_init=10)\n",
      "C:\\ProgramData\\anaconda3\\Lib\\site-packages\\sklearn\\cluster\\_kmeans.py:1436: UserWarning: KMeans is known to have a memory leak on Windows with MKL, when there are less chunks than available threads. You can avoid it by setting the environment variable OMP_NUM_THREADS=1.\n",
      "  warnings.warn(\n",
      "C:\\ProgramData\\anaconda3\\Lib\\site-packages\\sklearn\\cluster\\_kmeans.py:1412: FutureWarning: The default value of `n_init` will change from 10 to 'auto' in 1.4. Set the value of `n_init` explicitly to suppress the warning\n",
      "  super()._check_params_vs_input(X, default_n_init=10)\n",
      "C:\\ProgramData\\anaconda3\\Lib\\site-packages\\sklearn\\cluster\\_kmeans.py:1436: UserWarning: KMeans is known to have a memory leak on Windows with MKL, when there are less chunks than available threads. You can avoid it by setting the environment variable OMP_NUM_THREADS=1.\n",
      "  warnings.warn(\n",
      "C:\\ProgramData\\anaconda3\\Lib\\site-packages\\sklearn\\cluster\\_kmeans.py:1412: FutureWarning: The default value of `n_init` will change from 10 to 'auto' in 1.4. Set the value of `n_init` explicitly to suppress the warning\n",
      "  super()._check_params_vs_input(X, default_n_init=10)\n",
      "C:\\ProgramData\\anaconda3\\Lib\\site-packages\\sklearn\\cluster\\_kmeans.py:1436: UserWarning: KMeans is known to have a memory leak on Windows with MKL, when there are less chunks than available threads. You can avoid it by setting the environment variable OMP_NUM_THREADS=1.\n",
      "  warnings.warn(\n",
      "C:\\ProgramData\\anaconda3\\Lib\\site-packages\\sklearn\\cluster\\_kmeans.py:1412: FutureWarning: The default value of `n_init` will change from 10 to 'auto' in 1.4. Set the value of `n_init` explicitly to suppress the warning\n",
      "  super()._check_params_vs_input(X, default_n_init=10)\n",
      "C:\\ProgramData\\anaconda3\\Lib\\site-packages\\sklearn\\cluster\\_kmeans.py:1436: UserWarning: KMeans is known to have a memory leak on Windows with MKL, when there are less chunks than available threads. You can avoid it by setting the environment variable OMP_NUM_THREADS=1.\n",
      "  warnings.warn(\n",
      "C:\\ProgramData\\anaconda3\\Lib\\site-packages\\sklearn\\cluster\\_kmeans.py:1412: FutureWarning: The default value of `n_init` will change from 10 to 'auto' in 1.4. Set the value of `n_init` explicitly to suppress the warning\n",
      "  super()._check_params_vs_input(X, default_n_init=10)\n",
      "C:\\ProgramData\\anaconda3\\Lib\\site-packages\\sklearn\\cluster\\_kmeans.py:1436: UserWarning: KMeans is known to have a memory leak on Windows with MKL, when there are less chunks than available threads. You can avoid it by setting the environment variable OMP_NUM_THREADS=1.\n",
      "  warnings.warn(\n",
      "C:\\ProgramData\\anaconda3\\Lib\\site-packages\\sklearn\\cluster\\_kmeans.py:1412: FutureWarning: The default value of `n_init` will change from 10 to 'auto' in 1.4. Set the value of `n_init` explicitly to suppress the warning\n",
      "  super()._check_params_vs_input(X, default_n_init=10)\n",
      "C:\\ProgramData\\anaconda3\\Lib\\site-packages\\sklearn\\cluster\\_kmeans.py:1436: UserWarning: KMeans is known to have a memory leak on Windows with MKL, when there are less chunks than available threads. You can avoid it by setting the environment variable OMP_NUM_THREADS=1.\n",
      "  warnings.warn(\n",
      "C:\\ProgramData\\anaconda3\\Lib\\site-packages\\sklearn\\cluster\\_kmeans.py:1412: FutureWarning: The default value of `n_init` will change from 10 to 'auto' in 1.4. Set the value of `n_init` explicitly to suppress the warning\n",
      "  super()._check_params_vs_input(X, default_n_init=10)\n",
      "C:\\ProgramData\\anaconda3\\Lib\\site-packages\\sklearn\\cluster\\_kmeans.py:1436: UserWarning: KMeans is known to have a memory leak on Windows with MKL, when there are less chunks than available threads. You can avoid it by setting the environment variable OMP_NUM_THREADS=1.\n",
      "  warnings.warn(\n",
      "C:\\ProgramData\\anaconda3\\Lib\\site-packages\\sklearn\\cluster\\_kmeans.py:1412: FutureWarning: The default value of `n_init` will change from 10 to 'auto' in 1.4. Set the value of `n_init` explicitly to suppress the warning\n",
      "  super()._check_params_vs_input(X, default_n_init=10)\n",
      "C:\\ProgramData\\anaconda3\\Lib\\site-packages\\sklearn\\cluster\\_kmeans.py:1436: UserWarning: KMeans is known to have a memory leak on Windows with MKL, when there are less chunks than available threads. You can avoid it by setting the environment variable OMP_NUM_THREADS=1.\n",
      "  warnings.warn(\n",
      "C:\\ProgramData\\anaconda3\\Lib\\site-packages\\sklearn\\cluster\\_kmeans.py:1412: FutureWarning: The default value of `n_init` will change from 10 to 'auto' in 1.4. Set the value of `n_init` explicitly to suppress the warning\n",
      "  super()._check_params_vs_input(X, default_n_init=10)\n",
      "C:\\ProgramData\\anaconda3\\Lib\\site-packages\\sklearn\\cluster\\_kmeans.py:1436: UserWarning: KMeans is known to have a memory leak on Windows with MKL, when there are less chunks than available threads. You can avoid it by setting the environment variable OMP_NUM_THREADS=1.\n",
      "  warnings.warn(\n",
      "C:\\ProgramData\\anaconda3\\Lib\\site-packages\\sklearn\\cluster\\_kmeans.py:1412: FutureWarning: The default value of `n_init` will change from 10 to 'auto' in 1.4. Set the value of `n_init` explicitly to suppress the warning\n",
      "  super()._check_params_vs_input(X, default_n_init=10)\n",
      "C:\\ProgramData\\anaconda3\\Lib\\site-packages\\sklearn\\cluster\\_kmeans.py:1436: UserWarning: KMeans is known to have a memory leak on Windows with MKL, when there are less chunks than available threads. You can avoid it by setting the environment variable OMP_NUM_THREADS=1.\n",
      "  warnings.warn(\n"
     ]
    }
   ],
   "source": [
    "k_rng=range(1,14)\n",
    "sse=[]\n",
    "for k in k_rng:\n",
    "    km=KMeans(n_clusters=k)\n",
    "    km.fit(frame[['Fe content','Zn content']])\n",
    "    sse.append(km.inertia_)"
   ]
  },
  {
   "cell_type": "code",
   "execution_count": 16,
   "metadata": {
    "colab": {
     "base_uri": "https://localhost:8080/",
     "height": 430
    },
    "id": "ZTYQq7KmLDnh",
    "outputId": "e7480926-868c-421a-bade-a10277375e47"
   },
   "outputs": [
    {
     "data": {
      "image/png": "[encoded data removed]",
      "text/plain": [
       "<Figure size 640x480 with 1 Axes>"
      ]
     },
     "metadata": {},
     "output_type": "display_data"
    }
   ],
   "source": [
    "plt.plot(k_rng,sse)\n",
    "plt.show()"
   ]
  },
  {
   "cell_type": "code",
   "execution_count": 17,
   "metadata": {
    "id": "zT4WcRh5LHt6"
   },
   "outputs": [],
   "source": [
    "import sklearn.metrics as metrics"
   ]
  },
  {
   "cell_type": "code",
   "execution_count": 18,
   "metadata": {
    "colab": {
     "base_uri": "https://localhost:8080/"
    },
    "id": "LjBXHj4pLNO_",
    "outputId": "b62aef0c-43d7-4e1f-885b-ff33fd9a748a"
   },
   "outputs": [
    {
     "name": "stderr",
     "output_type": "stream",
     "text": [
      "C:\\ProgramData\\anaconda3\\Lib\\site-packages\\sklearn\\cluster\\_kmeans.py:1412: FutureWarning: The default value of `n_init` will change from 10 to 'auto' in 1.4. Set the value of `n_init` explicitly to suppress the warning\n",
      "  super()._check_params_vs_input(X, default_n_init=10)\n",
      "C:\\ProgramData\\anaconda3\\Lib\\site-packages\\sklearn\\cluster\\_kmeans.py:1436: UserWarning: KMeans is known to have a memory leak on Windows with MKL, when there are less chunks than available threads. You can avoid it by setting the environment variable OMP_NUM_THREADS=1.\n",
      "  warnings.warn(\n",
      "C:\\ProgramData\\anaconda3\\Lib\\site-packages\\sklearn\\cluster\\_kmeans.py:1412: FutureWarning: The default value of `n_init` will change from 10 to 'auto' in 1.4. Set the value of `n_init` explicitly to suppress the warning\n",
      "  super()._check_params_vs_input(X, default_n_init=10)\n",
      "C:\\ProgramData\\anaconda3\\Lib\\site-packages\\sklearn\\cluster\\_kmeans.py:1436: UserWarning: KMeans is known to have a memory leak on Windows with MKL, when there are less chunks than available threads. You can avoid it by setting the environment variable OMP_NUM_THREADS=1.\n",
      "  warnings.warn(\n",
      "C:\\ProgramData\\anaconda3\\Lib\\site-packages\\sklearn\\cluster\\_kmeans.py:1412: FutureWarning: The default value of `n_init` will change from 10 to 'auto' in 1.4. Set the value of `n_init` explicitly to suppress the warning\n",
      "  super()._check_params_vs_input(X, default_n_init=10)\n",
      "C:\\ProgramData\\anaconda3\\Lib\\site-packages\\sklearn\\cluster\\_kmeans.py:1436: UserWarning: KMeans is known to have a memory leak on Windows with MKL, when there are less chunks than available threads. You can avoid it by setting the environment variable OMP_NUM_THREADS=1.\n",
      "  warnings.warn(\n",
      "C:\\ProgramData\\anaconda3\\Lib\\site-packages\\sklearn\\cluster\\_kmeans.py:1412: FutureWarning: The default value of `n_init` will change from 10 to 'auto' in 1.4. Set the value of `n_init` explicitly to suppress the warning\n",
      "  super()._check_params_vs_input(X, default_n_init=10)\n",
      "C:\\ProgramData\\anaconda3\\Lib\\site-packages\\sklearn\\cluster\\_kmeans.py:1436: UserWarning: KMeans is known to have a memory leak on Windows with MKL, when there are less chunks than available threads. You can avoid it by setting the environment variable OMP_NUM_THREADS=1.\n",
      "  warnings.warn(\n",
      "C:\\ProgramData\\anaconda3\\Lib\\site-packages\\sklearn\\cluster\\_kmeans.py:1412: FutureWarning: The default value of `n_init` will change from 10 to 'auto' in 1.4. Set the value of `n_init` explicitly to suppress the warning\n",
      "  super()._check_params_vs_input(X, default_n_init=10)\n",
      "C:\\ProgramData\\anaconda3\\Lib\\site-packages\\sklearn\\cluster\\_kmeans.py:1436: UserWarning: KMeans is known to have a memory leak on Windows with MKL, when there are less chunks than available threads. You can avoid it by setting the environment variable OMP_NUM_THREADS=1.\n",
      "  warnings.warn(\n",
      "C:\\ProgramData\\anaconda3\\Lib\\site-packages\\sklearn\\cluster\\_kmeans.py:1412: FutureWarning: The default value of `n_init` will change from 10 to 'auto' in 1.4. Set the value of `n_init` explicitly to suppress the warning\n",
      "  super()._check_params_vs_input(X, default_n_init=10)\n",
      "C:\\ProgramData\\anaconda3\\Lib\\site-packages\\sklearn\\cluster\\_kmeans.py:1436: UserWarning: KMeans is known to have a memory leak on Windows with MKL, when there are less chunks than available threads. You can avoid it by setting the environment variable OMP_NUM_THREADS=1.\n",
      "  warnings.warn(\n",
      "C:\\ProgramData\\anaconda3\\Lib\\site-packages\\sklearn\\cluster\\_kmeans.py:1412: FutureWarning: The default value of `n_init` will change from 10 to 'auto' in 1.4. Set the value of `n_init` explicitly to suppress the warning\n",
      "  super()._check_params_vs_input(X, default_n_init=10)\n",
      "C:\\ProgramData\\anaconda3\\Lib\\site-packages\\sklearn\\cluster\\_kmeans.py:1436: UserWarning: KMeans is known to have a memory leak on Windows with MKL, when there are less chunks than available threads. You can avoid it by setting the environment variable OMP_NUM_THREADS=1.\n",
      "  warnings.warn(\n",
      "C:\\ProgramData\\anaconda3\\Lib\\site-packages\\sklearn\\cluster\\_kmeans.py:1412: FutureWarning: The default value of `n_init` will change from 10 to 'auto' in 1.4. Set the value of `n_init` explicitly to suppress the warning\n",
      "  super()._check_params_vs_input(X, default_n_init=10)\n",
      "C:\\ProgramData\\anaconda3\\Lib\\site-packages\\sklearn\\cluster\\_kmeans.py:1436: UserWarning: KMeans is known to have a memory leak on Windows with MKL, when there are less chunks than available threads. You can avoid it by setting the environment variable OMP_NUM_THREADS=1.\n",
      "  warnings.warn(\n",
      "C:\\ProgramData\\anaconda3\\Lib\\site-packages\\sklearn\\cluster\\_kmeans.py:1412: FutureWarning: The default value of `n_init` will change from 10 to 'auto' in 1.4. Set the value of `n_init` explicitly to suppress the warning\n",
      "  super()._check_params_vs_input(X, default_n_init=10)\n",
      "C:\\ProgramData\\anaconda3\\Lib\\site-packages\\sklearn\\cluster\\_kmeans.py:1436: UserWarning: KMeans is known to have a memory leak on Windows with MKL, when there are less chunks than available threads. You can avoid it by setting the environment variable OMP_NUM_THREADS=1.\n",
      "  warnings.warn(\n",
      "C:\\ProgramData\\anaconda3\\Lib\\site-packages\\sklearn\\cluster\\_kmeans.py:1412: FutureWarning: The default value of `n_init` will change from 10 to 'auto' in 1.4. Set the value of `n_init` explicitly to suppress the warning\n",
      "  super()._check_params_vs_input(X, default_n_init=10)\n",
      "C:\\ProgramData\\anaconda3\\Lib\\site-packages\\sklearn\\cluster\\_kmeans.py:1436: UserWarning: KMeans is known to have a memory leak on Windows with MKL, when there are less chunks than available threads. You can avoid it by setting the environment variable OMP_NUM_THREADS=1.\n",
      "  warnings.warn(\n"
     ]
    }
   ],
   "source": [
    "kvalue=range(2,12)\n",
    "sil=[]\n",
    "for k in kvalue:\n",
    "    km=KMeans(n_clusters=k)\n",
    "    labels=km.fit_predict(frame[['Fe content','Zn content']])\n",
    "    score=metrics.silhouette_score(frame[['Fe content','Zn content']],labels)\n",
    "    sil.append(score)"
   ]
  },
  {
   "cell_type": "code",
   "execution_count": 19,
   "metadata": {
    "colab": {
     "base_uri": "https://localhost:8080/",
     "height": 430
    },
    "id": "aTX-D6LvLRAI",
    "outputId": "d6981a14-393c-4fd6-e798-c92897247fb0"
   },
   "outputs": [
    {
     "data": {
      "image/png": "[encoded data removed]",
      "text/plain": [
       "<Figure size 640x480 with 1 Axes>"
      ]
     },
     "metadata": {},
     "output_type": "display_data"
    }
   ],
   "source": [
    "\n",
    "plt.plot(kvalue,sil,marker='*')\n",
    "plt.show()"
   ]
  },
  {
   "cell_type": "code",
   "execution_count": 20,
   "metadata": {
    "colab": {
     "base_uri": "https://localhost:8080/"
    },
    "id": "hk6mvDMMLWfo",
    "outputId": "ec090375-fcb9-4e84-b390-2f6a70345509"
   },
   "outputs": [
    {
     "name": "stderr",
     "output_type": "stream",
     "text": [
      "C:\\ProgramData\\anaconda3\\Lib\\site-packages\\sklearn\\cluster\\_kmeans.py:1412: FutureWarning: The default value of `n_init` will change from 10 to 'auto' in 1.4. Set the value of `n_init` explicitly to suppress the warning\n",
      "  super()._check_params_vs_input(X, default_n_init=10)\n",
      "C:\\ProgramData\\anaconda3\\Lib\\site-packages\\sklearn\\cluster\\_kmeans.py:1436: UserWarning: KMeans is known to have a memory leak on Windows with MKL, when there are less chunks than available threads. You can avoid it by setting the environment variable OMP_NUM_THREADS=1.\n",
      "  warnings.warn(\n"
     ]
    },
    {
     "data": {
      "text/plain": [
       "array([0, 1, 1, 1, 0, 0, 0, 0, 0, 0, 0, 0, 0, 0, 0])"
      ]
     },
     "execution_count": 20,
     "metadata": {},
     "output_type": "execute_result"
    }
   ],
   "source": [
    "km=KMeans(n_clusters=2)\n",
    "c=km.fit_predict(frame)\n",
    "c"
   ]
  },
  {
   "cell_type": "code",
   "execution_count": 21,
   "metadata": {
    "colab": {
     "base_uri": "https://localhost:8080/",
     "height": 206
    },
    "id": "ll3jjQNJLknQ",
    "outputId": "88cee6b1-08a4-4b1d-c201-6cad2720ff64"
   },
   "outputs": [
    {
     "data": {
      "text/html": [
       "<div>\n",
       "<style scoped>\n",
       "    .dataframe tbody tr th:only-of-type {\n",
       "        vertical-align: middle;\n",
       "    }\n",
       "\n",
       "    .dataframe tbody tr th {\n",
       "        vertical-align: top;\n",
       "    }\n",
       "\n",
       "    .dataframe thead th {\n",
       "        text-align: right;\n",
       "    }\n",
       "</style>\n",
       "<table border=\"1\" class=\"dataframe\">\n",
       "  <thead>\n",
       "    <tr style=\"text-align: right;\">\n",
       "      <th></th>\n",
       "      <th>Fe content</th>\n",
       "      <th>Zn content</th>\n",
       "      <th>cluster</th>\n",
       "    </tr>\n",
       "  </thead>\n",
       "  <tbody>\n",
       "    <tr>\n",
       "      <th>0</th>\n",
       "      <td>40.2</td>\n",
       "      <td>36.2</td>\n",
       "      <td>0</td>\n",
       "    </tr>\n",
       "    <tr>\n",
       "      <th>1</th>\n",
       "      <td>42.9</td>\n",
       "      <td>50.2</td>\n",
       "      <td>1</td>\n",
       "    </tr>\n",
       "    <tr>\n",
       "      <th>2</th>\n",
       "      <td>38.6</td>\n",
       "      <td>47.9</td>\n",
       "      <td>1</td>\n",
       "    </tr>\n",
       "    <tr>\n",
       "      <th>3</th>\n",
       "      <td>41.3</td>\n",
       "      <td>50.1</td>\n",
       "      <td>1</td>\n",
       "    </tr>\n",
       "    <tr>\n",
       "      <th>4</th>\n",
       "      <td>35.9</td>\n",
       "      <td>40.1</td>\n",
       "      <td>0</td>\n",
       "    </tr>\n",
       "  </tbody>\n",
       "</table>\n",
       "</div>"
      ],
      "text/plain": [
       "   Fe content  Zn content  cluster\n",
       "0        40.2        36.2        0\n",
       "1        42.9        50.2        1\n",
       "2        38.6        47.9        1\n",
       "3        41.3        50.1        1\n",
       "4        35.9        40.1        0"
      ]
     },
     "execution_count": 21,
     "metadata": {},
     "output_type": "execute_result"
    }
   ],
   "source": [
    "frame['cluster']=c\n",
    "frame.head()"
   ]
  },
  {
   "cell_type": "code",
   "execution_count": 22,
   "metadata": {
    "colab": {
     "base_uri": "https://localhost:8080/",
     "height": 388
    },
    "id": "0zkxkSiPLosG",
    "outputId": "31d9c402-7468-4200-db93-24f3eedb9be2"
   },
   "outputs": [
    {
     "data": {
      "image/png": "[encoded data removed]",
      "text/plain": [
       "<Figure size 400x400 with 1 Axes>"
      ]
     },
     "metadata": {},
     "output_type": "display_data"
    }
   ],
   "source": [
    "plt.figure(figsize=(4,4))\n",
    "df1 = frame[frame.cluster==0]\n",
    "df2 = frame[frame.cluster==1]\n",
    "plt.scatter(df1['Fe content'],df1['Zn content'],color='purple')\n",
    "plt.scatter(df2['Fe content'],df2['Zn content'],color='red')\n",
    "plt.xlabel('FE Content')\n",
    "plt.ylabel('ZN Content')\n",
    "plt.show()"
   ]
  },
  {
   "cell_type": "code",
   "execution_count": 23,
   "metadata": {
    "colab": {
     "base_uri": "https://localhost:8080/",
     "height": 1000
    },
    "id": "LDMrkD9Gp251",
    "outputId": "d6d52571-5978-4a84-edaa-556abc457193"
   },
   "outputs": [
    {
     "data": {
      "text/html": [
       "<div>\n",
       "<style scoped>\n",
       "    .dataframe tbody tr th:only-of-type {\n",
       "        vertical-align: middle;\n",
       "    }\n",
       "\n",
       "    .dataframe tbody tr th {\n",
       "        vertical-align: top;\n",
       "    }\n",
       "\n",
       "    .dataframe thead th {\n",
       "        text-align: right;\n",
       "    }\n",
       "</style>\n",
       "<table border=\"1\" class=\"dataframe\">\n",
       "  <thead>\n",
       "    <tr style=\"text-align: right;\">\n",
       "      <th></th>\n",
       "      <th>Region</th>\n",
       "      <th>Area</th>\n",
       "      <th>Timely sown</th>\n",
       "      <th>Seed</th>\n",
       "      <th>Grain appearance</th>\n",
       "      <th>Hectolitre weight</th>\n",
       "      <th>Protein content</th>\n",
       "      <th>Sedimentation value</th>\n",
       "      <th>Phenol test</th>\n",
       "      <th>Fe content</th>\n",
       "      <th>Zn content</th>\n",
       "      <th>cluster</th>\n",
       "    </tr>\n",
       "  </thead>\n",
       "  <tbody>\n",
       "    <tr>\n",
       "      <th>0</th>\n",
       "      <td>Northern Hills Zone (NHZ)</td>\n",
       "      <td>Almora</td>\n",
       "      <td>Rainfed Timely Sown</td>\n",
       "      <td>HS562 (C)</td>\n",
       "      <td>5.0</td>\n",
       "      <td>74.6</td>\n",
       "      <td>14.2</td>\n",
       "      <td>68.8</td>\n",
       "      <td>8.5</td>\n",
       "      <td>40.2</td>\n",
       "      <td>36.2</td>\n",
       "      <td>0</td>\n",
       "    </tr>\n",
       "    <tr>\n",
       "      <th>1</th>\n",
       "      <td>Northern Hills Zone (NHZ)</td>\n",
       "      <td>Almora</td>\n",
       "      <td>Rainfed Timely Sown</td>\n",
       "      <td>HPW349 (C)</td>\n",
       "      <td>4.8</td>\n",
       "      <td>76.0</td>\n",
       "      <td>14.5</td>\n",
       "      <td>70.0</td>\n",
       "      <td>8.0</td>\n",
       "      <td>42.9</td>\n",
       "      <td>50.2</td>\n",
       "      <td>1</td>\n",
       "    </tr>\n",
       "    <tr>\n",
       "      <th>2</th>\n",
       "      <td>Northern Hills Zone (NHZ)</td>\n",
       "      <td>Almora</td>\n",
       "      <td>Rainfed Timely Sown</td>\n",
       "      <td>HS507 (C)</td>\n",
       "      <td>5.0</td>\n",
       "      <td>76.6</td>\n",
       "      <td>13.6</td>\n",
       "      <td>55.4</td>\n",
       "      <td>7.0</td>\n",
       "      <td>38.6</td>\n",
       "      <td>47.9</td>\n",
       "      <td>1</td>\n",
       "    </tr>\n",
       "    <tr>\n",
       "      <th>3</th>\n",
       "      <td>Northern Hills Zone (NHZ)</td>\n",
       "      <td>Almora</td>\n",
       "      <td>Rainfed Timely Sown</td>\n",
       "      <td>VL907 (C)</td>\n",
       "      <td>5.0</td>\n",
       "      <td>74.8</td>\n",
       "      <td>14.3</td>\n",
       "      <td>49.6</td>\n",
       "      <td>8.0</td>\n",
       "      <td>41.3</td>\n",
       "      <td>50.1</td>\n",
       "      <td>1</td>\n",
       "    </tr>\n",
       "    <tr>\n",
       "      <th>4</th>\n",
       "      <td>Northern Hills Zone (NHZ)</td>\n",
       "      <td>Almora</td>\n",
       "      <td>Rainfed Timely Sown</td>\n",
       "      <td>VL2041</td>\n",
       "      <td>4.6</td>\n",
       "      <td>72.7</td>\n",
       "      <td>14.1</td>\n",
       "      <td>69.2</td>\n",
       "      <td>3.0</td>\n",
       "      <td>35.9</td>\n",
       "      <td>40.1</td>\n",
       "      <td>0</td>\n",
       "    </tr>\n",
       "    <tr>\n",
       "      <th>5</th>\n",
       "      <td>Northern Hills Zone (NHZ)</td>\n",
       "      <td>Shimla</td>\n",
       "      <td>Rainfed Timely Sown</td>\n",
       "      <td>HS562 (C)</td>\n",
       "      <td>5.8</td>\n",
       "      <td>80.6</td>\n",
       "      <td>11.6</td>\n",
       "      <td>48.0</td>\n",
       "      <td>7.5</td>\n",
       "      <td>43.5</td>\n",
       "      <td>29.2</td>\n",
       "      <td>0</td>\n",
       "    </tr>\n",
       "    <tr>\n",
       "      <th>6</th>\n",
       "      <td>Northern Hills Zone (NHZ)</td>\n",
       "      <td>Shimla</td>\n",
       "      <td>Rainfed Timely Sown</td>\n",
       "      <td>HPW349 (C)</td>\n",
       "      <td>5.6</td>\n",
       "      <td>80.2</td>\n",
       "      <td>11.6</td>\n",
       "      <td>53.4</td>\n",
       "      <td>7.5</td>\n",
       "      <td>42.3</td>\n",
       "      <td>34.2</td>\n",
       "      <td>0</td>\n",
       "    </tr>\n",
       "    <tr>\n",
       "      <th>7</th>\n",
       "      <td>Northern Hills Zone (NHZ)</td>\n",
       "      <td>Shimla</td>\n",
       "      <td>Rainfed Timely Sown</td>\n",
       "      <td>HS507 (C)</td>\n",
       "      <td>5.8</td>\n",
       "      <td>79.8</td>\n",
       "      <td>12.4</td>\n",
       "      <td>44.6</td>\n",
       "      <td>7.0</td>\n",
       "      <td>39.2</td>\n",
       "      <td>32.8</td>\n",
       "      <td>0</td>\n",
       "    </tr>\n",
       "    <tr>\n",
       "      <th>8</th>\n",
       "      <td>Northern Hills Zone (NHZ)</td>\n",
       "      <td>Shimla</td>\n",
       "      <td>Rainfed Timely Sown</td>\n",
       "      <td>VL907 (C)</td>\n",
       "      <td>5.6</td>\n",
       "      <td>77.6</td>\n",
       "      <td>11.3</td>\n",
       "      <td>38.0</td>\n",
       "      <td>7.5</td>\n",
       "      <td>40.8</td>\n",
       "      <td>34.9</td>\n",
       "      <td>0</td>\n",
       "    </tr>\n",
       "    <tr>\n",
       "      <th>9</th>\n",
       "      <td>Northern Hills Zone (NHZ)</td>\n",
       "      <td>Shimla</td>\n",
       "      <td>Rainfed Timely Sown</td>\n",
       "      <td>VL2041</td>\n",
       "      <td>5.4</td>\n",
       "      <td>77.6</td>\n",
       "      <td>11.0</td>\n",
       "      <td>48.8</td>\n",
       "      <td>5.0</td>\n",
       "      <td>41.4</td>\n",
       "      <td>36.0</td>\n",
       "      <td>0</td>\n",
       "    </tr>\n",
       "    <tr>\n",
       "      <th>10</th>\n",
       "      <td>Northern Hills Zone (NHZ)</td>\n",
       "      <td>Malan</td>\n",
       "      <td>Rainfed Timely Sown</td>\n",
       "      <td>HS562 (C)</td>\n",
       "      <td>6.0</td>\n",
       "      <td>77.9</td>\n",
       "      <td>11.9</td>\n",
       "      <td>43.8</td>\n",
       "      <td>8.0</td>\n",
       "      <td>39.6</td>\n",
       "      <td>31.8</td>\n",
       "      <td>0</td>\n",
       "    </tr>\n",
       "    <tr>\n",
       "      <th>11</th>\n",
       "      <td>Northern Hills Zone (NHZ)</td>\n",
       "      <td>Malan</td>\n",
       "      <td>Rainfed Timely Sown</td>\n",
       "      <td>HPW349 (C)</td>\n",
       "      <td>5.8</td>\n",
       "      <td>76.6</td>\n",
       "      <td>11.7</td>\n",
       "      <td>55.0</td>\n",
       "      <td>7.5</td>\n",
       "      <td>39.4</td>\n",
       "      <td>25.5</td>\n",
       "      <td>0</td>\n",
       "    </tr>\n",
       "    <tr>\n",
       "      <th>12</th>\n",
       "      <td>Northern Hills Zone (NHZ)</td>\n",
       "      <td>Malan</td>\n",
       "      <td>Rainfed Timely Sown</td>\n",
       "      <td>HS507 (C)</td>\n",
       "      <td>6.0</td>\n",
       "      <td>78.2</td>\n",
       "      <td>12.0</td>\n",
       "      <td>50.0</td>\n",
       "      <td>8.0</td>\n",
       "      <td>40.6</td>\n",
       "      <td>35.1</td>\n",
       "      <td>0</td>\n",
       "    </tr>\n",
       "    <tr>\n",
       "      <th>13</th>\n",
       "      <td>Northern Hills Zone (NHZ)</td>\n",
       "      <td>Malan</td>\n",
       "      <td>Rainfed Timely Sown</td>\n",
       "      <td>VL907 (C)</td>\n",
       "      <td>5.6</td>\n",
       "      <td>75.4</td>\n",
       "      <td>12.8</td>\n",
       "      <td>47.3</td>\n",
       "      <td>8.0</td>\n",
       "      <td>36.1</td>\n",
       "      <td>33.3</td>\n",
       "      <td>0</td>\n",
       "    </tr>\n",
       "    <tr>\n",
       "      <th>14</th>\n",
       "      <td>Northern Hills Zone (NHZ)</td>\n",
       "      <td>Malan</td>\n",
       "      <td>Rainfed Timely Sown</td>\n",
       "      <td>VL2041</td>\n",
       "      <td>5.8</td>\n",
       "      <td>76.5</td>\n",
       "      <td>12.5</td>\n",
       "      <td>50.7</td>\n",
       "      <td>4.5</td>\n",
       "      <td>35.4</td>\n",
       "      <td>27.8</td>\n",
       "      <td>0</td>\n",
       "    </tr>\n",
       "  </tbody>\n",
       "</table>\n",
       "</div>"
      ],
      "text/plain": [
       "                       Region    Area          Timely sown        Seed  \\\n",
       "0   Northern Hills Zone (NHZ)  Almora  Rainfed Timely Sown   HS562 (C)   \n",
       "1   Northern Hills Zone (NHZ)  Almora  Rainfed Timely Sown  HPW349 (C)   \n",
       "2   Northern Hills Zone (NHZ)  Almora  Rainfed Timely Sown   HS507 (C)   \n",
       "3   Northern Hills Zone (NHZ)  Almora  Rainfed Timely Sown   VL907 (C)   \n",
       "4   Northern Hills Zone (NHZ)  Almora  Rainfed Timely Sown      VL2041   \n",
       "5   Northern Hills Zone (NHZ)  Shimla  Rainfed Timely Sown   HS562 (C)   \n",
       "6   Northern Hills Zone (NHZ)  Shimla  Rainfed Timely Sown  HPW349 (C)   \n",
       "7   Northern Hills Zone (NHZ)  Shimla  Rainfed Timely Sown   HS507 (C)   \n",
       "8   Northern Hills Zone (NHZ)  Shimla  Rainfed Timely Sown   VL907 (C)   \n",
       "9   Northern Hills Zone (NHZ)  Shimla  Rainfed Timely Sown      VL2041   \n",
       "10  Northern Hills Zone (NHZ)   Malan  Rainfed Timely Sown   HS562 (C)   \n",
       "11  Northern Hills Zone (NHZ)   Malan  Rainfed Timely Sown  HPW349 (C)   \n",
       "12  Northern Hills Zone (NHZ)   Malan  Rainfed Timely Sown   HS507 (C)   \n",
       "13  Northern Hills Zone (NHZ)   Malan  Rainfed Timely Sown   VL907 (C)   \n",
       "14  Northern Hills Zone (NHZ)   Malan  Rainfed Timely Sown      VL2041   \n",
       "\n",
       "    Grain appearance  Hectolitre weight  Protein content  Sedimentation value  \\\n",
       "0                5.0               74.6             14.2                 68.8   \n",
       "1                4.8               76.0             14.5                 70.0   \n",
       "2                5.0               76.6             13.6                 55.4   \n",
       "3                5.0               74.8             14.3                 49.6   \n",
       "4                4.6               72.7             14.1                 69.2   \n",
       "5                5.8               80.6             11.6                 48.0   \n",
       "6                5.6               80.2             11.6                 53.4   \n",
       "7                5.8               79.8             12.4                 44.6   \n",
       "8                5.6               77.6             11.3                 38.0   \n",
       "9                5.4               77.6             11.0                 48.8   \n",
       "10               6.0               77.9             11.9                 43.8   \n",
       "11               5.8               76.6             11.7                 55.0   \n",
       "12               6.0               78.2             12.0                 50.0   \n",
       "13               5.6               75.4             12.8                 47.3   \n",
       "14               5.8               76.5             12.5                 50.7   \n",
       "\n",
       "    Phenol test  Fe content  Zn content  cluster  \n",
       "0           8.5        40.2        36.2        0  \n",
       "1           8.0        42.9        50.2        1  \n",
       "2           7.0        38.6        47.9        1  \n",
       "3           8.0        41.3        50.1        1  \n",
       "4           3.0        35.9        40.1        0  \n",
       "5           7.5        43.5        29.2        0  \n",
       "6           7.5        42.3        34.2        0  \n",
       "7           7.0        39.2        32.8        0  \n",
       "8           7.5        40.8        34.9        0  \n",
       "9           5.0        41.4        36.0        0  \n",
       "10          8.0        39.6        31.8        0  \n",
       "11          7.5        39.4        25.5        0  \n",
       "12          8.0        40.6        35.1        0  \n",
       "13          8.0        36.1        33.3        0  \n",
       "14          4.5        35.4        27.8        0  "
      ]
     },
     "execution_count": 23,
     "metadata": {},
     "output_type": "execute_result"
    }
   ],
   "source": [
    "df['cluster']=c\n",
    "df.head(95)"
   ]
  },
  {
   "cell_type": "code",
   "execution_count": 25,
   "metadata": {
    "colab": {
     "base_uri": "https://localhost:8080/"
    },
    "id": "RROdm9zKquNw",
    "outputId": "a70c4b1d-1f92-41ba-ae70-6d5795f71bdf"
   },
   "outputs": [
    {
     "data": {
      "text/plain": [
       "Fe content    39.533333\n",
       "Zn content    33.075000\n",
       "cluster        0.000000\n",
       "dtype: float64"
      ]
     },
     "execution_count": 25,
     "metadata": {},
     "output_type": "execute_result"
    }
   ],
   "source": [
    "df1.mean()"
   ]
  },
  {
   "cell_type": "code",
   "execution_count": 26,
   "metadata": {
    "colab": {
     "base_uri": "https://localhost:8080/"
    },
    "id": "xQ3tRXw-q9vA",
    "outputId": "9355405e-a5b0-4a3c-b0c1-c0ffa4778ba1"
   },
   "outputs": [
    {
     "data": {
      "text/plain": [
       "Fe content    40.933333\n",
       "Zn content    49.400000\n",
       "cluster        1.000000\n",
       "dtype: float64"
      ]
     },
     "execution_count": 26,
     "metadata": {},
     "output_type": "execute_result"
    }
   ],
   "source": [
    "df2.mean()"
   ]
  },
  {
   "cell_type": "code",
   "execution_count": 27,
   "metadata": {
    "id": "yrx0hVgsrKEc"
   },
   "outputs": [],
   "source": [
    "df.to_csv('NHZ_rainfall.csv')"
   ]
  },
  {
   "cell_type": "code",
   "execution_count": 28,
   "metadata": {
    "id": "b_eYQyZCfT0U"
   },
   "outputs": [
    {
     "data": {
      "text/plain": [
       "2.454021642574128"
      ]
     },
     "execution_count": 28,
     "metadata": {},
     "output_type": "execute_result"
    }
   ],
   "source": [
    "import numpy as np\n",
    "# Calculate the standard deviation\n",
    "standard_deviation = np.std(df1['Fe content'])\n",
    "\n",
    "standard_deviation"
   ]
  },
  {
   "cell_type": "code",
   "execution_count": 29,
   "metadata": {},
   "outputs": [
    {
     "data": {
      "text/plain": [
       "3.855110244856819"
      ]
     },
     "execution_count": 29,
     "metadata": {},
     "output_type": "execute_result"
    }
   ],
   "source": [
    "import numpy as np\n",
    "# Calculate the standard deviation\n",
    "standard_deviation = np.std(df1['Zn content'])\n",
    "\n",
    "standard_deviation\n"
   ]
  },
  {
   "cell_type": "code",
   "execution_count": 30,
   "metadata": {},
   "outputs": [
    {
     "data": {
      "text/plain": [
       "1.7745108872274873"
      ]
     },
     "execution_count": 30,
     "metadata": {},
     "output_type": "execute_result"
    }
   ],
   "source": [
    "import numpy as np\n",
    "# Calculate the standard deviation\n",
    "standard_deviation = np.std(df2['Fe content'])\n",
    "\n",
    "standard_deviation\n"
   ]
  },
  {
   "cell_type": "code",
   "execution_count": 31,
   "metadata": {},
   "outputs": [
    {
     "data": {
      "text/plain": [
       "1.0614455552060456"
      ]
     },
     "execution_count": 31,
     "metadata": {},
     "output_type": "execute_result"
    }
   ],
   "source": [
    "import numpy as np\n",
    "# Calculate the standard deviation\n",
    "standard_deviation = np.std(df2['Zn content'])\n",
    "\n",
    "standard_deviation\n"
   ]
  }
 ],
 "metadata": {
  "colab": {
   "provenance": []
  },
  "kernelspec": {
   "display_name": "Python 3 (ipykernel)",
   "language": "python",
   "name": "python3"
  },
  "language_info": {
   "codemirror_mode": {
    "name": "ipython",
    "version": 3
   },
   "file_extension": ".py",
   "mimetype": "text/x-python",
   "name": "python",
   "nbconvert_exporter": "python",
   "pygments_lexer": "ipython3",
   "version": "3.11.4"
  }
 },
 "nbformat": 4,
 "nbformat_minor": 1
}
